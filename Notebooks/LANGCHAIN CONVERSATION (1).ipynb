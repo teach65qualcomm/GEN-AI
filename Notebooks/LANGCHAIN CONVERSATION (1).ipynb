{
 "cells": [
  {
   "cell_type": "code",
   "execution_count": null,
   "metadata": {},
   "outputs": [],
   "source": [
    "!pip install langchain\n",
    "!pip install langchain_together\n",
    "!pip install langchain-community"
   ]
  },
  {
   "cell_type": "code",
   "execution_count": 53,
   "metadata": {},
   "outputs": [],
   "source": [
    "import warnings\n",
    "warnings.filterwarnings(\"ignore\")"
   ]
  },
  {
   "cell_type": "markdown",
   "metadata": {
    "id": "PtBa7rlWJWH3"
   },
   "source": [
    "## Enter API Tokens"
   ]
  },
  {
   "cell_type": "markdown",
   "metadata": {
    "id": "Y6RD7As2sm8G"
   },
   "source": [
    "#### Enter your Together AI Key here\n",
    "\n",
    "You can get the key from [here](https://api.together.ai/signin) after creating an account or signing in"
   ]
  },
  {
   "cell_type": "code",
   "execution_count": null,
   "metadata": {},
   "outputs": [],
   "source": []
  },
  {
   "cell_type": "code",
   "execution_count": 54,
   "metadata": {
    "colab": {
     "base_uri": "https://localhost:8080/"
    },
    "id": "9ogxBkS6ZnnC",
    "outputId": "4b411016-531d-4c31-85fc-b06cac039cc7"
   },
   "outputs": [
    {
     "name": "stdout",
     "output_type": "stream",
     "text": [
      "Please enter your together AI API Key here: ········\n"
     ]
    }
   ],
   "source": [
    "from getpass import getpass\n",
    "\n",
    "key = getpass('Please enter your together AI API Key here: ')"
   ]
  },
  {
   "cell_type": "markdown",
   "metadata": {
    "id": "T5rOqCyianbP"
   },
   "source": [
    "## Setup necessary system environment variables"
   ]
  },
  {
   "cell_type": "code",
   "execution_count": 55,
   "metadata": {
    "id": "1PIStD04Zp9p"
   },
   "outputs": [],
   "source": [
    "import os\n",
    "\n",
    "os.environ['TOGETHER_API_KEY'] = key"
   ]
  },
  {
   "cell_type": "code",
   "execution_count": 56,
   "metadata": {},
   "outputs": [],
   "source": [
    "from langchain_together import Together"
   ]
  },
  {
   "cell_type": "code",
   "execution_count": 57,
   "metadata": {},
   "outputs": [],
   "source": [
    "model=\"meta-llama/Meta-Llama-3.1-405B-Instruct-Turbo\"\n",
    "client=Together(model=model)"
   ]
  },
  {
   "cell_type": "code",
   "execution_count": 58,
   "metadata": {},
   "outputs": [],
   "source": [
    "prompt = \"\"\"Explain what is Generative AI in 3 bullet points\"\"\"\n"
   ]
  },
  {
   "cell_type": "code",
   "execution_count": 59,
   "metadata": {
    "scrolled": true
   },
   "outputs": [
    {
     "name": "stdout",
     "output_type": "stream",
     "text": [
      "\n",
      "Generative AI refers to a type of artificial intelligence that is capable of generating new, original content, such as images, videos, music, text, and more. Here are three key points that explain Generative AI:\n",
      "\n",
      "• **Content Creation**: Generative AI algorithms can create new content that is similar in style, tone, and structure to existing content. For example, a Generative AI model can generate new images of faces that are similar to a dataset of existing face images.\n",
      "\n",
      "• **Learning from Data**: Generative AI models learn from large datasets of existing content, identifying patterns, relationships, and structures within the data. This learning process enables the model to generate new content that is coherent and contextually relevant.\n",
      "\n",
      "• **Autonomous Generation**: Generative AI models can generate new content autonomously, without human intervention or explicit programming. This means that the model can produce an infinite number of new, unique pieces of content, each with its own characteristics and features.\n"
     ]
    }
   ],
   "source": [
    "response = client.invoke(prompt)\n",
    "print(response)"
   ]
  },
  {
   "cell_type": "code",
   "execution_count": 60,
   "metadata": {},
   "outputs": [
    {
     "name": "stdout",
     "output_type": "stream",
     "text": [
      ". The goal is to make machine learning more accessible to a broader audience, including those without extensive programming knowledge.\n",
      "The new tool, called AutoML, uses a simple drag-and-drop interface to let users build, train, and deploy machine learning models. It automates many of the complicated steps involved in machine learning, such as data preprocessing, feature engineering, and hyperparameter tuning.\n",
      "AutoML is designed to be used by anyone, regardless of their level of programming expertise. It provides a visual interface that lets users easily select data, choose a machine learning algorithm, and configure parameters. The tool then automatically generates the code needed to train and deploy the model.\n",
      "Google says that AutoML can be used for a wide range of machine learning tasks, including image classification, natural language processing, and predictive analytics. The company claims that AutoML can achieve results that are comparable to those achieved by experienced machine learning engineers.\n",
      "AutoML is part of Google's broader effort to make machine learning more accessible and user-friendly.\n"
     ]
    }
   ],
   "source": [
    "print(client.invoke(\"now do the same for machine learning\"))"
   ]
  },
  {
   "cell_type": "markdown",
   "metadata": {},
   "source": [
    "# CHAT MODELS"
   ]
  },
  {
   "cell_type": "code",
   "execution_count": null,
   "metadata": {},
   "outputs": [],
   "source": [
    "# pip install langchain\n",
    "# pip install langchain_community\n",
    "# pip install langchain_together"
   ]
  },
  {
   "cell_type": "code",
   "execution_count": 10,
   "metadata": {},
   "outputs": [],
   "source": [
    "\n",
    "from langchain_together import ChatTogether\n",
    "from langchain_core.messages import HumanMessage, SystemMessage"
   ]
  },
  {
   "cell_type": "code",
   "execution_count": 61,
   "metadata": {},
   "outputs": [],
   "source": [
    "chat = ChatTogether(model_name=model)"
   ]
  },
  {
   "cell_type": "code",
   "execution_count": 62,
   "metadata": {},
   "outputs": [
    {
     "name": "stdout",
     "output_type": "stream",
     "text": [
      "Explain what is Generative AI in 3 bullet points\n"
     ]
    }
   ],
   "source": [
    "prompt = \"\"\"Explain what is Generative AI in 3 bullet points\"\"\"\n",
    "print(prompt)"
   ]
  },
  {
   "cell_type": "code",
   "execution_count": 63,
   "metadata": {},
   "outputs": [
    {
     "name": "stdout",
     "output_type": "stream",
     "text": [
      "Here are three bullet points explaining Generative AI:\n",
      "\n",
      "• **Definition:** Generative AI is a type of artificial intelligence that uses algorithms to generate new, unique content, such as images, videos, music, text, or other forms of data. This content is created based on patterns and structures learned from existing data, rather than being explicitly programmed.\n",
      "\n",
      "• **How it works:** Generative AI models, such as Generative Adversarial Networks (GANs) and Variational Autoencoders (VAEs), learn to represent complex data distributions by training on large datasets. They then use this learned representation to generate new samples that are similar in style and structure to the training data. This process involves a continuous cycle of generating, evaluating, and refining the generated content.\n",
      "\n",
      "• **Applications:** Generative AI has a wide range of applications, including art and design, music composition, text generation, and data augmentation. It can be used to create realistic synthetic data for training machine learning models, generate personalized content, or even create entirely new products and services. Examples of generative AI in action include AI-generated portraits, AI-composed music, and AI-written articles.\n"
     ]
    }
   ],
   "source": [
    "response = chat.invoke(prompt)\n",
    "print(response.content)"
   ]
  },
  {
   "cell_type": "markdown",
   "metadata": {},
   "source": [
    "## Message Types for ChatModels and Conversational Prompting\n",
    "\n",
    "Conversational prompting is basically you, the user, having a full conversation with the LLM. The conversation history is typically represented as a list of messages.\n",
    "\n",
    "ChatModels process a list of messages, receiving them as input and responding with a message. Messages are characterized by a few distinct types and properties:\n",
    "\n",
    "- **Role:** Indicates who is speaking in the message. LangChain offers different message classes for various roles.\n",
    "- **Content:** The substance of the message, which can vary:\n",
    "  - A string (commonly handled by most models)\n",
    "  - A list of dictionaries (for multi-modal inputs, where each dictionary details the type and location of the input)\n",
    "\n",
    "Additionally, messages have an `additional_kwargs` property, used for passing extra information specific to the message provider, not typically general. A well-known example is `function_call`.\n",
    "\n",
    "### Specific Message Types\n",
    "\n",
    "- **HumanMessage:** A user-generated message, usually containing only content.\n",
    "- **AIMessage:** A message from the model, potentially including `additional_kwargs`, like `tool_calls` .\n",
    "- **SystemMessage:** A message from the system instructing model behavior, typically containing only content. Not all models support this type.\n"
   ]
  },
  {
   "cell_type": "code",
   "execution_count": 96,
   "metadata": {},
   "outputs": [
    {
     "data": {
      "text/plain": [
       "[SystemMessage(content='Act as a helpful assistant and give meaningful examples in your responses.', additional_kwargs={}, response_metadata={}),\n",
       " HumanMessage(content='Can you explain what is Generative AI in 3 bullet points?', additional_kwargs={}, response_metadata={})]"
      ]
     },
     "execution_count": 96,
     "metadata": {},
     "output_type": "execute_result"
    }
   ],
   "source": [
    "from langchain_core.messages import HumanMessage, SystemMessage\n",
    "\n",
    "prompt = \"\"\"Can you explain what is Generative AI in 3 bullet points?\"\"\"\n",
    "sys_prompt = \"\"\"Act as a helpful assistant and give meaningful examples in your responses.\"\"\"\n",
    "messages = [\n",
    "    SystemMessage(content=sys_prompt),\n",
    "    HumanMessage(content=prompt),\n",
    "]\n",
    "\n",
    "messages"
   ]
  },
  {
   "cell_type": "code",
   "execution_count": 72,
   "metadata": {},
   "outputs": [],
   "source": [
    "chat = ChatTogether(model_name=model)"
   ]
  },
  {
   "cell_type": "code",
   "execution_count": 73,
   "metadata": {},
   "outputs": [
    {
     "data": {
      "text/plain": [
       "AIMessage(content='Here are three bullet points that explain Generative AI:\\n\\n• **Generating new content**: Generative AI is a type of artificial intelligence that can create new content, such as images, music, videos, and text, by learning patterns and structures from existing data. This allows it to produce novel and often unique outputs that are similar in style or format to the input data.\\n\\n• **Using machine learning algorithms**: Generative AI relies on machine learning algorithms, particularly deep learning and neural networks, to analyze and understand the patterns in the input data. These algorithms enable the AI system to identify relationships, trends, and features that can be used to generate new content.\\n\\n• **Applications in various fields**: Generative AI has numerous applications across various fields, including art, design, entertainment, healthcare, and education. For instance, it can be used to generate realistic images for advertising, create personalized music recommendations, or produce synthetic data for training AI models in healthcare and finance.', additional_kwargs={'refusal': None}, response_metadata={'token_usage': {'completion_tokens': 193, 'prompt_tokens': 63, 'total_tokens': 256, 'completion_tokens_details': None, 'prompt_tokens_details': None}, 'model_name': 'meta-llama/Meta-Llama-3.1-405B-Instruct-Turbo', 'system_fingerprint': None, 'finish_reason': 'eos', 'logprobs': None}, id='run-2485a02a-5fdd-475d-a9ec-f25768313ab2-0', usage_metadata={'input_tokens': 63, 'output_tokens': 193, 'total_tokens': 256, 'input_token_details': {}, 'output_token_details': {}})"
      ]
     },
     "execution_count": 73,
     "metadata": {},
     "output_type": "execute_result"
    }
   ],
   "source": [
    "response = chat.invoke(messages)\n",
    "response"
   ]
  },
  {
   "cell_type": "code",
   "execution_count": 74,
   "metadata": {},
   "outputs": [
    {
     "name": "stdout",
     "output_type": "stream",
     "text": [
      "Here are three bullet points that explain Generative AI:\n",
      "\n",
      "• **Generating new content**: Generative AI is a type of artificial intelligence that can create new content, such as images, music, videos, and text, by learning patterns and structures from existing data. This allows it to produce novel and often unique outputs that are similar in style or format to the input data.\n",
      "\n",
      "• **Using machine learning algorithms**: Generative AI relies on machine learning algorithms, particularly deep learning and neural networks, to analyze and understand the patterns in the input data. These algorithms enable the AI system to identify relationships, trends, and features that can be used to generate new content.\n",
      "\n",
      "• **Applications in various fields**: Generative AI has numerous applications across various fields, including art, design, entertainment, healthcare, and education. For instance, it can be used to generate realistic images for advertising, create personalized music recommendations, or produce synthetic data for training AI models in healthcare and finance.\n"
     ]
    }
   ],
   "source": [
    "print(response.content)"
   ]
  },
  {
   "cell_type": "code",
   "execution_count": 75,
   "metadata": {},
   "outputs": [],
   "source": [
    "messages.append(response)"
   ]
  },
  {
   "cell_type": "code",
   "execution_count": 76,
   "metadata": {},
   "outputs": [
    {
     "data": {
      "text/plain": [
       "[SystemMessage(content='Act as a helpful assistant and give meaningful examples in your responses.', additional_kwargs={}, response_metadata={}),\n",
       " HumanMessage(content='Can you explain what is Generative AI in 3 bullet points?', additional_kwargs={}, response_metadata={}),\n",
       " AIMessage(content='Here are three bullet points that explain Generative AI:\\n\\n• **Generating new content**: Generative AI is a type of artificial intelligence that can create new content, such as images, music, videos, and text, by learning patterns and structures from existing data. This allows it to produce novel and often unique outputs that are similar in style or format to the input data.\\n\\n• **Using machine learning algorithms**: Generative AI relies on machine learning algorithms, particularly deep learning and neural networks, to analyze and understand the patterns in the input data. These algorithms enable the AI system to identify relationships, trends, and features that can be used to generate new content.\\n\\n• **Applications in various fields**: Generative AI has numerous applications across various fields, including art, design, entertainment, healthcare, and education. For instance, it can be used to generate realistic images for advertising, create personalized music recommendations, or produce synthetic data for training AI models in healthcare and finance.', additional_kwargs={'refusal': None}, response_metadata={'token_usage': {'completion_tokens': 193, 'prompt_tokens': 63, 'total_tokens': 256, 'completion_tokens_details': None, 'prompt_tokens_details': None}, 'model_name': 'meta-llama/Meta-Llama-3.1-405B-Instruct-Turbo', 'system_fingerprint': None, 'finish_reason': 'eos', 'logprobs': None}, id='run-2485a02a-5fdd-475d-a9ec-f25768313ab2-0', usage_metadata={'input_tokens': 63, 'output_tokens': 193, 'total_tokens': 256, 'input_token_details': {}, 'output_token_details': {}})]"
      ]
     },
     "execution_count": 76,
     "metadata": {},
     "output_type": "execute_result"
    }
   ],
   "source": [
    "messages"
   ]
  },
  {
   "cell_type": "code",
   "execution_count": 77,
   "metadata": {},
   "outputs": [
    {
     "data": {
      "text/plain": [
       "[SystemMessage(content='Act as a helpful assistant and give meaningful examples in your responses.', additional_kwargs={}, response_metadata={}),\n",
       " HumanMessage(content='Can you explain what is Generative AI in 3 bullet points?', additional_kwargs={}, response_metadata={}),\n",
       " AIMessage(content='Here are three bullet points that explain Generative AI:\\n\\n• **Generating new content**: Generative AI is a type of artificial intelligence that can create new content, such as images, music, videos, and text, by learning patterns and structures from existing data. This allows it to produce novel and often unique outputs that are similar in style or format to the input data.\\n\\n• **Using machine learning algorithms**: Generative AI relies on machine learning algorithms, particularly deep learning and neural networks, to analyze and understand the patterns in the input data. These algorithms enable the AI system to identify relationships, trends, and features that can be used to generate new content.\\n\\n• **Applications in various fields**: Generative AI has numerous applications across various fields, including art, design, entertainment, healthcare, and education. For instance, it can be used to generate realistic images for advertising, create personalized music recommendations, or produce synthetic data for training AI models in healthcare and finance.', additional_kwargs={'refusal': None}, response_metadata={'token_usage': {'completion_tokens': 193, 'prompt_tokens': 63, 'total_tokens': 256, 'completion_tokens_details': None, 'prompt_tokens_details': None}, 'model_name': 'meta-llama/Meta-Llama-3.1-405B-Instruct-Turbo', 'system_fingerprint': None, 'finish_reason': 'eos', 'logprobs': None}, id='run-2485a02a-5fdd-475d-a9ec-f25768313ab2-0', usage_metadata={'input_tokens': 63, 'output_tokens': 193, 'total_tokens': 256, 'input_token_details': {}, 'output_token_details': {}}),\n",
       " HumanMessage(content='now do the same for machine learning', additional_kwargs={}, response_metadata={})]"
      ]
     },
     "execution_count": 77,
     "metadata": {},
     "output_type": "execute_result"
    }
   ],
   "source": [
    "# add the past conversation history into messages\n",
    "\n",
    "# add the new prompt to the conversation history list\n",
    "prompt = \"\"\"now do the same for machine learning\"\"\"\n",
    "messages.append(HumanMessage(content=prompt))\n",
    "messages"
   ]
  },
  {
   "cell_type": "code",
   "execution_count": 79,
   "metadata": {},
   "outputs": [
    {
     "name": "stdout",
     "output_type": "stream",
     "text": [
      "Here are three bullet points that explain Machine Learning:\n",
      "\n",
      "• **Enabling computers to learn**: Machine learning is a type of artificial intelligence that allows computers to learn from data and improve their performance on a specific task without being explicitly programmed. This is achieved through algorithms that analyze data, identify patterns, and make predictions or decisions based on that analysis.\n",
      "\n",
      "• **Training models with data**: Machine learning involves training models using large datasets, which enables the models to learn from the data and make accurate predictions or take actions. The training process involves feeding the model with input data, allowing it to make predictions, and adjusting the model's parameters based on the accuracy of those predictions.\n",
      "\n",
      "• **Applications in automation and decision-making**: Machine learning has numerous applications in automation and decision-making, including image and speech recognition, natural language processing, recommender systems, and predictive analytics. For example, machine learning can be used to automate tasks such as spam filtering, sentiment analysis, and customer segmentation, or to support decision-making in areas like medical diagnosis, credit scoring, and financial forecasting.\n"
     ]
    }
   ],
   "source": [
    "response = chat.invoke(messages)\n",
    "print(response.content)"
   ]
  },
  {
   "cell_type": "code",
   "execution_count": null,
   "metadata": {},
   "outputs": [],
   "source": []
  },
  {
   "cell_type": "code",
   "execution_count": 97,
   "metadata": {},
   "outputs": [
    {
     "name": "stdout",
     "output_type": "stream",
     "text": [
      "Here are three bullet points explaining Deep Learning:\n",
      "\n",
      "• **Multi-layered Neural Networks**: Deep learning is a subset of machine learning that utilizes multi-layered neural networks, often referred to as deep neural networks (DNNs). These networks are composed of multiple layers of interconnected nodes or 'neurons,' which process and transform input data into meaningful representations.\n",
      "\n",
      "• **Automatic Feature Learning**: Unlike traditional machine learning approaches that rely on human-engineered features, deep learning models can automatically learn relevant features from the input data. This is achieved through the process of hierarchical representation learning, where early layers learn low-level features and later layers learn more abstract and high-level features.\n",
      "\n",
      "• **Large-Scale Data and Computational Power**: Deep learning models require large amounts of data and significant computational power to train. The availability of large datasets, advancements in computing hardware (e.g., GPUs), and the development of specialized deep learning frameworks have made it possible to train complex models that achieve state-of-the-art performance in various applications, such as image recognition, natural language processing, and speech recognition.\n"
     ]
    }
   ],
   "source": [
    "prompt = \"\"\"Explain Deep Learning in 3 bullet points\"\"\"\n",
    "\n",
    "messages = [\n",
    "    HumanMessage(content=prompt),\n",
    "]\n",
    "\n",
    "response = chat.invoke(messages) # doesn't support system prompts\n",
    "print(response.content)"
   ]
  },
  {
   "cell_type": "code",
   "execution_count": 98,
   "metadata": {},
   "outputs": [],
   "source": [
    "messages.append(response)"
   ]
  },
  {
   "cell_type": "code",
   "execution_count": 99,
   "metadata": {},
   "outputs": [],
   "source": [
    "prompt = \"\"\"Now do the same with Machine learning\"\"\"\n",
    "messages.append(HumanMessage(content=prompt))"
   ]
  },
  {
   "cell_type": "code",
   "execution_count": 100,
   "metadata": {},
   "outputs": [
    {
     "name": "stdout",
     "output_type": "stream",
     "text": [
      "Here are three bullet points explaining Machine Learning:\n",
      "\n",
      "• **Data-Driven Predictions**: Machine learning is a subset of artificial intelligence that enables computers to make predictions or decisions based on data, without being explicitly programmed for a specific task. Machine learning algorithms learn patterns and relationships in the data, allowing them to make predictions, classify objects, or identify trends.\n",
      "\n",
      "• **Model Training and Evaluation**: Machine learning involves training a model on a dataset, where the model learns to identify patterns and relationships between the input data and the target output. The trained model is then evaluated on a separate dataset to assess its performance, and adjustments are made to the model as needed to improve its accuracy.\n",
      "\n",
      "• **Improvement through Iteration**: Machine learning is an iterative process that involves continuous improvement through data collection, model refinement, and evaluation. As new data becomes available, machine learning models can be retrained and updated to adapt to changing patterns and trends, allowing them to improve their performance and accuracy over time.\n"
     ]
    }
   ],
   "source": [
    "\n",
    "\n",
    "response = chat.invoke(messages) \n",
    "print(response.content)"
   ]
  },
  {
   "cell_type": "code",
   "execution_count": 101,
   "metadata": {},
   "outputs": [],
   "source": [
    "messages.append(response)"
   ]
  },
  {
   "cell_type": "code",
   "execution_count": 102,
   "metadata": {},
   "outputs": [
    {
     "data": {
      "text/plain": [
       "[HumanMessage(content='Explain Deep Learning in 3 bullet points', additional_kwargs={}, response_metadata={}),\n",
       " AIMessage(content=\"Here are three bullet points explaining Deep Learning:\\n\\n• **Multi-layered Neural Networks**: Deep learning is a subset of machine learning that utilizes multi-layered neural networks, often referred to as deep neural networks (DNNs). These networks are composed of multiple layers of interconnected nodes or 'neurons,' which process and transform input data into meaningful representations.\\n\\n• **Automatic Feature Learning**: Unlike traditional machine learning approaches that rely on human-engineered features, deep learning models can automatically learn relevant features from the input data. This is achieved through the process of hierarchical representation learning, where early layers learn low-level features and later layers learn more abstract and high-level features.\\n\\n• **Large-Scale Data and Computational Power**: Deep learning models require large amounts of data and significant computational power to train. The availability of large datasets, advancements in computing hardware (e.g., GPUs), and the development of specialized deep learning frameworks have made it possible to train complex models that achieve state-of-the-art performance in various applications, such as image recognition, natural language processing, and speech recognition.\", additional_kwargs={'refusal': None}, response_metadata={'token_usage': {'completion_tokens': 213, 'prompt_tokens': 45, 'total_tokens': 258, 'completion_tokens_details': None, 'prompt_tokens_details': None}, 'model_name': 'meta-llama/Meta-Llama-3.1-405B-Instruct-Turbo', 'system_fingerprint': None, 'finish_reason': 'eos', 'logprobs': None}, id='run-c33c5ab7-3b45-4a65-bba7-52a96467629a-0', usage_metadata={'input_tokens': 45, 'output_tokens': 213, 'total_tokens': 258, 'input_token_details': {}, 'output_token_details': {}}),\n",
       " HumanMessage(content='Now do the same with Machine learning', additional_kwargs={}, response_metadata={}),\n",
       " AIMessage(content='Here are three bullet points explaining Machine Learning:\\n\\n• **Data-Driven Predictions**: Machine learning is a subset of artificial intelligence that enables computers to make predictions or decisions based on data, without being explicitly programmed for a specific task. Machine learning algorithms learn patterns and relationships in the data, allowing them to make predictions, classify objects, or identify trends.\\n\\n• **Model Training and Evaluation**: Machine learning involves training a model on a dataset, where the model learns to identify patterns and relationships between the input data and the target output. The trained model is then evaluated on a separate dataset to assess its performance, and adjustments are made to the model as needed to improve its accuracy.\\n\\n• **Improvement through Iteration**: Machine learning is an iterative process that involves continuous improvement through data collection, model refinement, and evaluation. As new data becomes available, machine learning models can be retrained and updated to adapt to changing patterns and trends, allowing them to improve their performance and accuracy over time.', additional_kwargs={'refusal': None}, response_metadata={'token_usage': {'completion_tokens': 197, 'prompt_tokens': 274, 'total_tokens': 471, 'completion_tokens_details': None, 'prompt_tokens_details': None}, 'model_name': 'meta-llama/Meta-Llama-3.1-405B-Instruct-Turbo', 'system_fingerprint': None, 'finish_reason': 'eos', 'logprobs': None}, id='run-1074c06e-afc9-4636-a180-17abad976b65-0', usage_metadata={'input_tokens': 274, 'output_tokens': 197, 'total_tokens': 471, 'input_token_details': {}, 'output_token_details': {}})]"
      ]
     },
     "execution_count": 102,
     "metadata": {},
     "output_type": "execute_result"
    }
   ],
   "source": [
    "messages"
   ]
  },
  {
   "cell_type": "code",
   "execution_count": 103,
   "metadata": {},
   "outputs": [],
   "source": [
    "prompt=\"make a report with intro,body and conclusion\""
   ]
  },
  {
   "cell_type": "code",
   "execution_count": 104,
   "metadata": {},
   "outputs": [],
   "source": [
    "mes=HumanMessage(content=prompt)"
   ]
  },
  {
   "cell_type": "code",
   "execution_count": 105,
   "metadata": {},
   "outputs": [],
   "source": [
    "messages.append(mes)"
   ]
  },
  {
   "cell_type": "code",
   "execution_count": 106,
   "metadata": {},
   "outputs": [
    {
     "data": {
      "text/plain": [
       "[HumanMessage(content='Explain Deep Learning in 3 bullet points', additional_kwargs={}, response_metadata={}),\n",
       " AIMessage(content=\"Here are three bullet points explaining Deep Learning:\\n\\n• **Multi-layered Neural Networks**: Deep learning is a subset of machine learning that utilizes multi-layered neural networks, often referred to as deep neural networks (DNNs). These networks are composed of multiple layers of interconnected nodes or 'neurons,' which process and transform input data into meaningful representations.\\n\\n• **Automatic Feature Learning**: Unlike traditional machine learning approaches that rely on human-engineered features, deep learning models can automatically learn relevant features from the input data. This is achieved through the process of hierarchical representation learning, where early layers learn low-level features and later layers learn more abstract and high-level features.\\n\\n• **Large-Scale Data and Computational Power**: Deep learning models require large amounts of data and significant computational power to train. The availability of large datasets, advancements in computing hardware (e.g., GPUs), and the development of specialized deep learning frameworks have made it possible to train complex models that achieve state-of-the-art performance in various applications, such as image recognition, natural language processing, and speech recognition.\", additional_kwargs={'refusal': None}, response_metadata={'token_usage': {'completion_tokens': 213, 'prompt_tokens': 45, 'total_tokens': 258, 'completion_tokens_details': None, 'prompt_tokens_details': None}, 'model_name': 'meta-llama/Meta-Llama-3.1-405B-Instruct-Turbo', 'system_fingerprint': None, 'finish_reason': 'eos', 'logprobs': None}, id='run-c33c5ab7-3b45-4a65-bba7-52a96467629a-0', usage_metadata={'input_tokens': 45, 'output_tokens': 213, 'total_tokens': 258, 'input_token_details': {}, 'output_token_details': {}}),\n",
       " HumanMessage(content='Now do the same with Machine learning', additional_kwargs={}, response_metadata={}),\n",
       " AIMessage(content='Here are three bullet points explaining Machine Learning:\\n\\n• **Data-Driven Predictions**: Machine learning is a subset of artificial intelligence that enables computers to make predictions or decisions based on data, without being explicitly programmed for a specific task. Machine learning algorithms learn patterns and relationships in the data, allowing them to make predictions, classify objects, or identify trends.\\n\\n• **Model Training and Evaluation**: Machine learning involves training a model on a dataset, where the model learns to identify patterns and relationships between the input data and the target output. The trained model is then evaluated on a separate dataset to assess its performance, and adjustments are made to the model as needed to improve its accuracy.\\n\\n• **Improvement through Iteration**: Machine learning is an iterative process that involves continuous improvement through data collection, model refinement, and evaluation. As new data becomes available, machine learning models can be retrained and updated to adapt to changing patterns and trends, allowing them to improve their performance and accuracy over time.', additional_kwargs={'refusal': None}, response_metadata={'token_usage': {'completion_tokens': 197, 'prompt_tokens': 274, 'total_tokens': 471, 'completion_tokens_details': None, 'prompt_tokens_details': None}, 'model_name': 'meta-llama/Meta-Llama-3.1-405B-Instruct-Turbo', 'system_fingerprint': None, 'finish_reason': 'eos', 'logprobs': None}, id='run-1074c06e-afc9-4636-a180-17abad976b65-0', usage_metadata={'input_tokens': 274, 'output_tokens': 197, 'total_tokens': 471, 'input_token_details': {}, 'output_token_details': {}}),\n",
       " HumanMessage(content='make a report with intro,body and conclusion', additional_kwargs={}, response_metadata={})]"
      ]
     },
     "execution_count": 106,
     "metadata": {},
     "output_type": "execute_result"
    }
   ],
   "source": [
    "messages"
   ]
  },
  {
   "cell_type": "code",
   "execution_count": 110,
   "metadata": {},
   "outputs": [],
   "source": [
    "response=chat.invoke(messages)"
   ]
  },
  {
   "cell_type": "code",
   "execution_count": 111,
   "metadata": {},
   "outputs": [
    {
     "name": "stdout",
     "output_type": "stream",
     "text": [
      "**Report: An Overview of Machine Learning and Deep Learning**\n",
      "\n",
      "**Introduction**\n",
      "\n",
      "In recent years, the field of artificial intelligence (AI) has experienced rapid growth and development, with machine learning and deep learning emerging as two of the most promising areas of research. These technologies have the potential to revolutionize numerous industries, from healthcare and finance to transportation and education, by enabling computers to make predictions, classify objects, and identify trends with unprecedented accuracy. This report provides an overview of machine learning and deep learning, highlighting their key concepts, applications, and benefits.\n",
      "\n",
      "**Body**\n",
      "\n",
      "Machine learning is a subset of AI that enables computers to learn from data without being explicitly programmed for a specific task. It involves training a model on a dataset, where the model learns to identify patterns and relationships between the input data and the target output. The trained model is then evaluated on a separate dataset to assess its performance, and adjustments are made to the model as needed to improve its accuracy. Machine learning has a wide range of applications, including image recognition, natural language processing, and predictive analytics.\n",
      "\n",
      "Deep learning is a subset of machine learning that utilizes multi-layered neural networks, often referred to as deep neural networks (DNNs). These networks are composed of multiple layers of interconnected nodes or 'neurons,' which process and transform input data into meaningful representations. Deep learning models can automatically learn relevant features from the input data, eliminating the need for human-engineered features. This has enabled deep learning models to achieve state-of-the-art performance in various applications, including image recognition, speech recognition, and natural language processing.\n",
      "\n",
      "Both machine learning and deep learning require large amounts of data and significant computational power to train. However, the availability of large datasets, advancements in computing hardware, and the development of specialized frameworks have made it possible to train complex models that achieve high accuracy. Additionally, machine learning and deep learning are iterative processes that involve continuous improvement through data collection, model refinement, and evaluation.\n",
      "\n",
      "**Conclusion**\n",
      "\n",
      "In conclusion, machine learning and deep learning are powerful technologies that have the potential to transform numerous industries and aspects of our lives. By enabling computers to learn from data and make predictions with unprecedented accuracy, these technologies can improve decision-making, increase efficiency, and drive innovation. As the field of AI continues to evolve, we can expect to see even more exciting developments in machine learning and deep learning, leading to new applications and opportunities that we cannot yet imagine. Therefore, it is essential to continue investing in research and development, as well as education and training, to ensure that we can harness the full potential of these technologies and create a brighter future for all.\n"
     ]
    }
   ],
   "source": [
    "print(response.content)"
   ]
  },
  {
   "cell_type": "code",
   "execution_count": 112,
   "metadata": {},
   "outputs": [],
   "source": [
    "prompt=\"list 5 important subjects for mba in finance\"\n",
    "\n",
    "esh=[HumanMessage(content=prompt)]"
   ]
  },
  {
   "cell_type": "code",
   "execution_count": 113,
   "metadata": {},
   "outputs": [],
   "source": [
    "chat=ChatTogether(model=model)"
   ]
  },
  {
   "cell_type": "code",
   "execution_count": 114,
   "metadata": {},
   "outputs": [],
   "source": [
    "response=chat.invoke(esh)"
   ]
  },
  {
   "cell_type": "code",
   "execution_count": 115,
   "metadata": {},
   "outputs": [
    {
     "name": "stdout",
     "output_type": "stream",
     "text": [
      "Here are 5 important subjects for an MBA in Finance:\n",
      "\n",
      "1. **Corporate Finance**: This subject deals with the financial management of a corporation, including topics such as capital budgeting, cost of capital, dividend policy, and capital structure. It provides students with a comprehensive understanding of the financial decision-making process in a corporate setting.\n",
      "\n",
      "2. **Financial Markets and Institutions**: This subject provides an overview of the financial system, including the different types of financial markets (e.g. stock markets, bond markets, currency markets) and financial institutions (e.g. commercial banks, investment banks, insurance companies). It helps students understand how financial markets and institutions operate and interact with each other.\n",
      "\n",
      "3. **Investments**: This subject covers the principles of investing in different types of assets, such as stocks, bonds, and derivatives. It provides students with a comprehensive understanding of investment analysis, portfolio management, and risk management.\n",
      "\n",
      "4. **Financial Management and Accounting**: This subject deals with the accounting and financial management aspects of a business, including financial statement analysis, budgeting, and financial planning. It provides students with a solid understanding of financial accounting and management accounting principles.\n",
      "\n",
      "5. **Risk Management and Derivatives**: This subject covers the principles of risk management and the use of derivatives (e.g. options, futures, swaps) to manage risk. It provides students with a comprehensive understanding of the different types of risk (e.g. market risk, credit risk, operational risk) and how to manage them using derivatives and other risk management tools.\n",
      "\n",
      "These subjects provide a solid foundation for students pursuing an MBA in Finance and help them develop a comprehensive understanding of the financial aspects of business.\n"
     ]
    }
   ],
   "source": [
    "print(response.content)"
   ]
  },
  {
   "cell_type": "code",
   "execution_count": 42,
   "metadata": {},
   "outputs": [],
   "source": [
    "esh.append(response)"
   ]
  },
  {
   "cell_type": "code",
   "execution_count": 116,
   "metadata": {},
   "outputs": [],
   "source": [
    "prompt2=\"now do the same for btech in CS\""
   ]
  },
  {
   "cell_type": "code",
   "execution_count": 117,
   "metadata": {},
   "outputs": [],
   "source": [
    "esh.append(HumanMessage(content=prompt2))"
   ]
  },
  {
   "cell_type": "code",
   "execution_count": 118,
   "metadata": {},
   "outputs": [],
   "source": [
    "response2=chat.invoke(esh)"
   ]
  },
  {
   "cell_type": "code",
   "execution_count": 119,
   "metadata": {},
   "outputs": [
    {
     "name": "stdout",
     "output_type": "stream",
     "text": [
      "Here are 5 important subjects for B.Tech in Computer Science:\n",
      "\n",
      "1. **Data Structures and Algorithms**: This subject is crucial for understanding how to efficiently store and manipulate data in computer systems. Students learn various data structures like arrays, linked lists, trees, and graphs, as well as algorithms like sorting, searching, and graph traversal.\n",
      "\n",
      "2. **Computer Networks**: This subject teaches students how computer systems communicate with each other, including network protocols, architecture, and security. It's essential for understanding how data is transmitted over the internet and how to design and manage computer networks.\n",
      "\n",
      "3. **Database Management Systems**: This subject covers the design, implementation, and management of databases, including data modeling, normalization, and querying. Students learn how to design and manage databases using various database management systems like MySQL, Oracle, and MongoDB.\n",
      "\n",
      "4. **Operating Systems**: This subject teaches students how operating systems manage computer hardware and provide services to applications. Students learn about process management, memory management, file systems, and input/output management.\n",
      "\n",
      "5. **Software Engineering**: This subject covers the principles and practices of software development, including software design, development, testing, and maintenance. Students learn how to design and develop software systems using various methodologies like Agile, Scrum, and Waterfall.\n",
      "\n",
      "These subjects form the foundation of computer science and are essential for any aspiring software developer, data scientist, or IT professional.\n"
     ]
    }
   ],
   "source": [
    "print(response2.content)"
   ]
  },
  {
   "cell_type": "code",
   "execution_count": 47,
   "metadata": {},
   "outputs": [
    {
     "data": {
      "text/plain": [
       "[HumanMessage(content='list 5 important subjects for mba in finance', additional_kwargs={}, response_metadata={}),\n",
       " AIMessage(content='Here are 5 important subjects for an MBA in Finance:\\n\\n1. **Financial Management**: This subject covers the fundamental concepts of financial management, including financial planning, budgeting, forecasting, and decision-making. It helps students understand how to analyze financial statements, assess financial risks, and make informed investment decisions.\\n\\n2. **Investment Analysis and Portfolio Management**: This subject teaches students how to analyze investment opportunities, assess risk, and create diversified portfolios. It covers topics such as stock and bond valuation, portfolio optimization, and risk management.\\n\\n3. **Corporate Finance**: This subject focuses on the financial aspects of corporate decision-making, including capital budgeting, capital structure, dividend policy, and mergers and acquisitions. It helps students understand how to evaluate investment opportunities, assess financial risks, and make strategic financial decisions.\\n\\n4. **Financial Markets and Institutions**: This subject provides an overview of the financial system, including financial markets, instruments, and institutions. It covers topics such as money and banking, financial regulation, and the role of financial institutions in the economy.\\n\\n5. **Financial Accounting and Analysis**: This subject teaches students how to analyze financial statements, identify financial trends, and assess financial performance. It covers topics such as financial statement analysis, ratio analysis, and financial modeling, and helps students understand how to use financial data to make informed business decisions.\\n\\nThese subjects provide a solid foundation for an MBA in Finance and help students develop the skills and knowledge needed to succeed in a career in finance.', additional_kwargs={'refusal': None}, response_metadata={'token_usage': {'completion_tokens': 297, 'prompt_tokens': 46, 'total_tokens': 343, 'completion_tokens_details': None, 'prompt_tokens_details': None}, 'model_name': 'meta-llama/Meta-Llama-3.1-405B-Instruct-Turbo', 'system_fingerprint': None, 'finish_reason': 'eos', 'logprobs': None}, id='run-6d2753a9-71bd-4318-9d71-47ad5139b0d1-0', usage_metadata={'input_tokens': 46, 'output_tokens': 297, 'total_tokens': 343, 'input_token_details': {}, 'output_token_details': {}}),\n",
       " HumanMessage(content='now do the same for btech in CS', additional_kwargs={}, response_metadata={})]"
      ]
     },
     "execution_count": 47,
     "metadata": {},
     "output_type": "execute_result"
    }
   ],
   "source": [
    "esh"
   ]
  },
  {
   "cell_type": "code",
   "execution_count": 48,
   "metadata": {},
   "outputs": [],
   "source": [
    "esh.append(response2)"
   ]
  },
  {
   "cell_type": "code",
   "execution_count": 49,
   "metadata": {},
   "outputs": [
    {
     "data": {
      "text/plain": [
       "[HumanMessage(content='list 5 important subjects for mba in finance', additional_kwargs={}, response_metadata={}),\n",
       " AIMessage(content='Here are 5 important subjects for an MBA in Finance:\\n\\n1. **Financial Management**: This subject covers the fundamental concepts of financial management, including financial planning, budgeting, forecasting, and decision-making. It helps students understand how to analyze financial statements, assess financial risks, and make informed investment decisions.\\n\\n2. **Investment Analysis and Portfolio Management**: This subject teaches students how to analyze investment opportunities, assess risk, and create diversified portfolios. It covers topics such as stock and bond valuation, portfolio optimization, and risk management.\\n\\n3. **Corporate Finance**: This subject focuses on the financial aspects of corporate decision-making, including capital budgeting, capital structure, dividend policy, and mergers and acquisitions. It helps students understand how to evaluate investment opportunities, assess financial risks, and make strategic financial decisions.\\n\\n4. **Financial Markets and Institutions**: This subject provides an overview of the financial system, including financial markets, instruments, and institutions. It covers topics such as money and banking, financial regulation, and the role of financial institutions in the economy.\\n\\n5. **Financial Accounting and Analysis**: This subject teaches students how to analyze financial statements, identify financial trends, and assess financial performance. It covers topics such as financial statement analysis, ratio analysis, and financial modeling, and helps students understand how to use financial data to make informed business decisions.\\n\\nThese subjects provide a solid foundation for an MBA in Finance and help students develop the skills and knowledge needed to succeed in a career in finance.', additional_kwargs={'refusal': None}, response_metadata={'token_usage': {'completion_tokens': 297, 'prompt_tokens': 46, 'total_tokens': 343, 'completion_tokens_details': None, 'prompt_tokens_details': None}, 'model_name': 'meta-llama/Meta-Llama-3.1-405B-Instruct-Turbo', 'system_fingerprint': None, 'finish_reason': 'eos', 'logprobs': None}, id='run-6d2753a9-71bd-4318-9d71-47ad5139b0d1-0', usage_metadata={'input_tokens': 46, 'output_tokens': 297, 'total_tokens': 343, 'input_token_details': {}, 'output_token_details': {}}),\n",
       " HumanMessage(content='now do the same for btech in CS', additional_kwargs={}, response_metadata={}),\n",
       " AIMessage(content='Here are 5 important subjects for a B.Tech in Computer Science:\\n\\n1. **Data Structures and Algorithms**: This subject teaches students how to design and analyze algorithms, as well as how to implement data structures such as arrays, linked lists, stacks, and queues. It helps students understand how to write efficient and effective code.\\n\\n2. **Computer Programming (C, C++, Java, Python)**: This subject introduces students to programming languages and helps them develop problem-solving skills. It covers topics such as variables, data types, control structures, functions, and object-oriented programming.\\n\\n3. **Computer Networks**: This subject provides an overview of computer networks, including network topology, protocols, and architectures. It covers topics such as TCP/IP, DNS, DHCP, and network security, and helps students understand how to design and implement computer networks.\\n\\n4. **Database Management Systems**: This subject teaches students how to design, implement, and manage databases. It covers topics such as data modeling, normalization, querying, and database security, and helps students understand how to work with databases.\\n\\n5. **Operating Systems**: This subject introduces students to the concepts and principles of operating systems, including process management, memory management, file systems, and I/O management. It helps students understand how to write system-level code and how to optimize system performance.\\n\\nThese subjects provide a solid foundation for a B.Tech in Computer Science and help students develop the skills and knowledge needed to succeed in a career in software development, IT, or research.\\n\\nAdditionally, other important subjects in B.Tech CS may include:\\n\\n* Computer Architecture\\n* Software Engineering\\n* Artificial Intelligence and Machine Learning\\n* Web Development\\n* Cyber Security\\n\\nNote that the specific subjects and emphasis can vary depending on the institution and curriculum.', additional_kwargs={'refusal': None}, response_metadata={'token_usage': {'completion_tokens': 356, 'prompt_tokens': 361, 'total_tokens': 717, 'completion_tokens_details': None, 'prompt_tokens_details': None}, 'model_name': 'meta-llama/Meta-Llama-3.1-405B-Instruct-Turbo', 'system_fingerprint': None, 'finish_reason': 'eos', 'logprobs': None}, id='run-2317be2c-cf77-48ea-b564-0e8e3949dfd9-0', usage_metadata={'input_tokens': 361, 'output_tokens': 356, 'total_tokens': 717, 'input_token_details': {}, 'output_token_details': {}})]"
      ]
     },
     "execution_count": 49,
     "metadata": {},
     "output_type": "execute_result"
    }
   ],
   "source": [
    "esh"
   ]
  },
  {
   "cell_type": "code",
   "execution_count": 120,
   "metadata": {},
   "outputs": [],
   "source": [
    "prompt3=\"what we have discussed so far\"\n",
    "\n",
    "esh.append(HumanMessage(content=prompt3))"
   ]
  },
  {
   "cell_type": "code",
   "execution_count": 121,
   "metadata": {},
   "outputs": [],
   "source": [
    "response3=chat.invoke(esh)"
   ]
  },
  {
   "cell_type": "code",
   "execution_count": 122,
   "metadata": {},
   "outputs": [
    {
     "name": "stdout",
     "output_type": "stream",
     "text": [
      "We have discussed the following topics so far:\n",
      "\n",
      "1. You asked me to list 5 important subjects for an MBA in Finance, but I didn't provide the list yet.\n",
      "2. You asked me to list 5 important subjects for a B.Tech in Computer Science (CS), but I didn't provide the list yet either.\n",
      "3. You asked me to recall what we have discussed so far.\n",
      "\n",
      "Let me provide the lists now:\n",
      "\n",
      "**5 Important Subjects for an MBA in Finance:**\n",
      "\n",
      "1. Financial Management\n",
      "2. Corporate Finance\n",
      "3. Investment Analysis and Portfolio Management\n",
      "4. Financial Markets and Institutions\n",
      "5. Risk Management and Derivatives\n",
      "\n",
      "**5 Important Subjects for a B.Tech in Computer Science (CS):**\n",
      "\n",
      "1. Data Structures and Algorithms\n",
      "2. Computer Organization and Architecture\n",
      "3. Operating Systems\n",
      "4. Database Management Systems\n",
      "5. Computer Networks\n",
      "\n",
      "Please let me know if you'd like me to elaborate on any of these subjects!\n"
     ]
    }
   ],
   "source": [
    "print(response3.content)"
   ]
  },
  {
   "cell_type": "code",
   "execution_count": null,
   "metadata": {},
   "outputs": [],
   "source": []
  }
 ],
 "metadata": {
  "colab": {
   "provenance": []
  },
  "kernelspec": {
   "display_name": "Python 3 (ipykernel)",
   "language": "python",
   "name": "python3"
  },
  "language_info": {
   "codemirror_mode": {
    "name": "ipython",
    "version": 3
   },
   "file_extension": ".py",
   "mimetype": "text/x-python",
   "name": "python",
   "nbconvert_exporter": "python",
   "pygments_lexer": "ipython3",
   "version": "3.10.9"
  }
 },
 "nbformat": 4,
 "nbformat_minor": 1
}
