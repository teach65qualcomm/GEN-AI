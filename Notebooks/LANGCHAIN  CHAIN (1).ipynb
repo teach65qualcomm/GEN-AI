{
 "cells": [
  {
   "cell_type": "code",
   "execution_count": null,
   "id": "34f54f66",
   "metadata": {},
   "outputs": [],
   "source": [
    "!pip install langchain\n",
    "!pip install langchain_together\n",
    "!pip install langchain-community"
   ]
  },
  {
   "cell_type": "code",
   "execution_count": 48,
   "id": "209a5dc1",
   "metadata": {},
   "outputs": [],
   "source": [
    "import warnings\n",
    "warnings.filterwarnings(\"ignore\")"
   ]
  },
  {
   "cell_type": "code",
   "execution_count": 156,
   "id": "fe768d09",
   "metadata": {},
   "outputs": [],
   "source": [
    "model_name=\"mistralai/Mistral-7B-Instruct-v0.2\""
   ]
  },
  {
   "cell_type": "code",
   "execution_count": 2,
   "id": "cfbcc4ef",
   "metadata": {},
   "outputs": [
    {
     "name": "stdout",
     "output_type": "stream",
     "text": [
      "Please enter your together AI API Key here: ········\n"
     ]
    }
   ],
   "source": [
    "from getpass import getpass\n",
    "\n",
    "key = getpass('Please enter your together AI API Key here: ')"
   ]
  },
  {
   "cell_type": "code",
   "execution_count": 90,
   "id": "a35f08d0",
   "metadata": {},
   "outputs": [],
   "source": [
    "import os\n",
    "\n",
    "os.environ['TOGETHER_API_KEY'] = \"b5356c7833ae679c0450b02475dc4ac9043ea10b6666d419f9608de6cc485fbf\""
   ]
  },
  {
   "cell_type": "code",
   "execution_count": 147,
   "id": "a5a9a42b",
   "metadata": {},
   "outputs": [],
   "source": [
    "model=\"mistralai/Mistral-7B-Instruct-v0.2\"\n"
   ]
  },
  {
   "cell_type": "code",
   "execution_count": 110,
   "id": "59244916",
   "metadata": {},
   "outputs": [],
   "source": [
    "import os\n",
    "from langchain_together import ChatTogether\n",
    "from langchain.prompts import PromptTemplate\n",
    "from langchain.prompts import ChatPromptTemplate\n",
    "from langchain.schema.output_parser import StrOutputParser\n"
   ]
  },
  {
   "cell_type": "code",
   "execution_count": 157,
   "id": "98bbdd62",
   "metadata": {},
   "outputs": [],
   "source": [
    "model = ChatTogether(model_name=model)\n"
   ]
  },
  {
   "cell_type": "code",
   "execution_count": 201,
   "id": "a055c076",
   "metadata": {},
   "outputs": [],
   "source": [
    "prompt = PromptTemplate(input_variables=[\"country\",\"year\"],\n",
    "    template=\"tell me more about gdp of {country} in {year}\"\n",
    ")"
   ]
  },
  {
   "cell_type": "code",
   "execution_count": 198,
   "id": "aa2006fb",
   "metadata": {},
   "outputs": [
    {
     "data": {
      "text/plain": [
       "PromptTemplate(input_variables=['country', 'year'], input_types={}, partial_variables={}, template='tell me more about gdp of {country} in {year}')"
      ]
     },
     "execution_count": 198,
     "metadata": {},
     "output_type": "execute_result"
    }
   ],
   "source": [
    "prompt"
   ]
  },
  {
   "cell_type": "code",
   "execution_count": 203,
   "id": "1ff05439",
   "metadata": {},
   "outputs": [
    {
     "name": "stdout",
     "output_type": "stream",
     "text": [
      "\n",
      "\n",
      "\u001b[1m> Entering new LLMChain chain...\u001b[0m\n",
      "Prompt after formatting:\n",
      "\u001b[32;1m\u001b[1;3mtell me more about gdp of us in 2024\u001b[0m\n",
      "\n",
      "\u001b[1m> Finished chain.\u001b[0m\n",
      " I'm unable to provide a precise prediction about the GDP of the United States in 2024 as I don't have the ability to forecast economic data. However, I can tell you that the GDP of a country is influenced by a variety of factors such as government spending, consumer spending, investment, and net exports.\n",
      "\n",
      "To get a sense of the current economic outlook, you can look at forecasts from reputable sources like the International Monetary Fund (IMF), the Organisation for Economic Co-operation and Development (OECD), or the U.S. Bureau of Economic Analysis. These organizations regularly publish predictions about GDP growth for various countries, including the United States.\n",
      "\n",
      "As of my last update, the IMF predicts a 3.5% GDP growth rate for the United States in 2023. For 2024, they expect a slight slowdown to 2.3%. However, keep in mind that these forecasts are subject to change as new economic data becomes available and as the world continues to respond to global events like the COVID-19 pandemic.\n",
      "\n",
      "For a more accurate estimate, I would recommend checking the latest projections from these organizations or consulting with an economist.\n"
     ]
    }
   ],
   "source": [
    "from langchain.chains import LLMChain\n",
    "chain = LLMChain(llm=model, prompt=prompt, verbose=True)\n",
    "\n",
    "print(chain.run({\"country\":\"us\",\"year\":\"2024\"}))"
   ]
  },
  {
   "cell_type": "markdown",
   "id": "84938dd2",
   "metadata": {},
   "source": [
    "# Sequential Chain\n",
    "A sequential chain is a chain that combines various individual chains, \n",
    "where the output of one chain serves as the input for the next in a continuous sequence. \n",
    "It operates by running a series of chains consecutively."
   ]
  },
  {
   "cell_type": "code",
   "execution_count": 114,
   "id": "c98d8e42",
   "metadata": {},
   "outputs": [],
   "source": [
    "\n",
    "from langchain.chains import LLMChain\n",
    "from langchain.prompts import PromptTemplate\n",
    "from langchain.prompts import ChatPromptTemplate\n",
    "from langchain.chains import SimpleSequentialChain"
   ]
  },
  {
   "cell_type": "code",
   "execution_count": 115,
   "id": "8acfef8b",
   "metadata": {},
   "outputs": [],
   "source": [
    "# This is an LLMChain to write first chain.\n",
    "first_prompt = ChatPromptTemplate.from_template(\n",
    "    \" {product}?\"\n",
    ")\n",
    "chain_one = LLMChain(llm=model, prompt=first_prompt)\n",
    "\n"
   ]
  },
  {
   "cell_type": "code",
   "execution_count": 116,
   "id": "46d8f7ed",
   "metadata": {},
   "outputs": [],
   "source": [
    "# This is an LLMChain to write second chain.\n",
    "\n",
    "\n",
    "second_prompt = ChatPromptTemplate.from_template(\n",
    "    \"Write a 20 words description for the following company:{company_name}\"\n",
    ")\n",
    "chain_two = LLMChain(llm=model, prompt=second_prompt)\n"
   ]
  },
  {
   "cell_type": "code",
   "execution_count": 117,
   "id": "52eba20f",
   "metadata": {},
   "outputs": [
    {
     "name": "stdout",
     "output_type": "stream",
     "text": [
      "\n",
      "\n",
      "\u001b[1m> Entering new SimpleSequentialChain chain...\u001b[0m\n",
      "\u001b[36;1m\u001b[1;3mHere are some suggestions for a company name that makes gaming laptops:\n",
      "\n",
      "1. **Pulse Gaming**: suggests energy, excitement, and a strong heartbeat, which is perfect for a gaming brand.\n",
      "2. **Apex Computers**: implies a high level of performance, speed, and power, which is ideal for gaming laptops.\n",
      "3. **Frenzy Systems**: conveys a sense of intense energy and excitement, which is often associated with gaming.\n",
      "4. **Velocity Gaming**: emphasizes speed, agility, and quick reflexes, which are essential for gaming.\n",
      "5. **Stormforge**: suggests a powerful and intense gaming experience, with a nod to the idea of forging powerful machines.\n",
      "6. **RazorEdge Gaming**: implies a sharp, cutting-edge approach to gaming laptops, with a focus on performance and precision.\n",
      "7. **Core Gaming Co.**: emphasizes the core components of a gaming laptop, such as the processor, graphics card, and RAM.\n",
      "8. **Luminari Gaming**: suggests a bright, illuminated approach to gaming, with a focus on high-performance displays and lighting.\n",
      "9. **Thunderbolt Gaming**: implies a powerful, electrifying gaming experience, with a nod to the idea of fast and powerful hardware.\n",
      "10. **Paragon Gaming**: suggests a high level of excellence, quality, and performance, which is perfect for a gaming laptop brand.\n",
      "\n",
      "Remember to choose a name that:\n",
      "\n",
      "* Is memorable and easy to spell\n",
      "* Is available as a web domain and social media handle\n",
      "* Reflects your brand values and personality\n",
      "* Is unique and stands out from competitors\n",
      "* Complies with trademark laws and regulations\n",
      "\n",
      "I hope these suggestions help inspire you to find the perfect name for your gaming laptop company!\u001b[0m\n",
      "\u001b[33;1m\u001b[1;3mHigh-performance gaming laptops designed for speed, power, and intense entertainment experiences always.\u001b[0m\n",
      "\n",
      "\u001b[1m> Finished chain.\u001b[0m\n"
     ]
    },
    {
     "data": {
      "text/plain": [
       "'High-performance gaming laptops designed for speed, power, and intense entertainment experiences always.'"
      ]
     },
     "execution_count": 117,
     "metadata": {},
     "output_type": "execute_result"
    }
   ],
   "source": [
    "overall_simple_chain = SimpleSequentialChain(chains=[chain_one, chain_two],\n",
    "                                             verbose=True\n",
    "                                            )\n",
    "overall_simple_chain.run(\"gaming laptop\")"
   ]
  },
  {
   "cell_type": "code",
   "execution_count": 118,
   "id": "40e0469b",
   "metadata": {},
   "outputs": [],
   "source": [
    "\n",
    "from langchain.chains import LLMChain\n",
    "from langchain.prompts import PromptTemplate\n",
    "from langchain.prompts import ChatPromptTemplate\n",
    "from langchain.chains import SequentialChain"
   ]
  },
  {
   "cell_type": "code",
   "execution_count": 120,
   "id": "50b706c1",
   "metadata": {},
   "outputs": [],
   "source": [
    "Review = \"\"\"Les ordinateurs portables GamersTech impressionne par ses\n",
    " performances exceptionnelles et son design élégant. De sa configuration \n",
    " matérielle robuste à un clavier RVB personnalisable et un système de \n",
    " refroidissement efficace, il établit un équilibre parfait entre prouesses \n",
    " de jeu et portabilité.\"\"\"\n",
    "\n",
    "# prompt template 1: translate to English\n",
    "\n",
    "first_prompt = ChatPromptTemplate.from_template(\n",
    "    \"Translate the following review to english:\"\n",
    "    \"\\n \\n {Review}\"\n",
    ")\n",
    "\n",
    "# chain 1: input= Review and output= English_Review\n",
    "\n",
    "chain_one = LLMChain(llm=model, prompt=first_prompt,\n",
    "                     output_key=\"English_Review\"                     \n",
    "                    )\n",
    "                   \n",
    "                    "
   ]
  },
  {
   "cell_type": "code",
   "execution_count": 121,
   "id": "795eb2dd",
   "metadata": {},
   "outputs": [],
   "source": [
    "# prompt template 2: Summarize the English review\n",
    "\n",
    "second_prompt = ChatPromptTemplate.from_template(\n",
    "    \"Can you summarize the following review in 1 sentence:\"\n",
    "    \"\\n\\n {English_Review} \"\n",
    ")\n",
    "\n",
    "# chain 2: input= English_Review and output= summary\n",
    "\n",
    "chain_two = LLMChain(llm=model, prompt=second_prompt,\n",
    "                     output_key=\"summary\"\n",
    "                    )\n"
   ]
  },
  {
   "cell_type": "code",
   "execution_count": 122,
   "id": "680fc8e5",
   "metadata": {},
   "outputs": [],
   "source": [
    "# prompt template 3: know review language\n",
    "\n",
    "third_prompt = ChatPromptTemplate.from_template(\n",
    "    \"What language is the following review:\"\n",
    "    \"\\n\\n{Review}\"\n",
    ")\n",
    "\n",
    "# chain 3: input= Review and output= language\n",
    "\n",
    "chain_three = LLMChain(llm=model, prompt=third_prompt,\n",
    "                       output_key=\"language\"\n",
    "                      )\n"
   ]
  },
  {
   "cell_type": "code",
   "execution_count": 123,
   "id": "8f8df4a9",
   "metadata": {},
   "outputs": [],
   "source": [
    "# prompt template 4: follow up message\n",
    "\n",
    "fourth_prompt = ChatPromptTemplate.from_template(\n",
    "    \"Write a follow up response to the following \"\n",
    "    \"summary in the specified language:\"\n",
    "    \"\\n\\nSummary: {summary}\"\n",
    "    \"\\n\\nLanguage: {language}\"\n",
    ")\n",
    "\n",
    "# chain 4: input= summary, language and output= followup_message\n",
    "\n",
    "chain_four = LLMChain(llm=model, prompt=fourth_prompt,\n",
    "                      output_key=\"followup_message\"\n",
    "                     )\n"
   ]
  },
  {
   "cell_type": "code",
   "execution_count": 124,
   "id": "11d6b65f",
   "metadata": {},
   "outputs": [
    {
     "name": "stdout",
     "output_type": "stream",
     "text": [
      "\n",
      "\n",
      "\u001b[1m> Entering new SequentialChain chain...\u001b[0m\n",
      "\n",
      "\u001b[1m> Finished chain.\u001b[0m\n"
     ]
    },
    {
     "data": {
      "text/plain": [
       "{'Review': 'Les ordinateurs portables GamersTech impressionne par ses\\n performances exceptionnelles et son design élégant. De sa configuration \\n matérielle robuste à un clavier RVB personnalisable et un système de \\n refroidissement efficace, il établit un équilibre parfait entre prouesses \\n de jeu et portabilité.',\n",
       " 'English_Review': 'Here is the translation of the review to English:\\n\\nThe GamersTech laptops impress with their exceptional performance and elegant design. From its robust hardware configuration to a customizable RGB keyboard and an effective cooling system, it strikes a perfect balance between gaming prowess and portability.',\n",
       " 'summary': 'The GamersTech laptop impresses with its exceptional performance, elegant design, and perfect balance between gaming capabilities and portability, thanks to its robust hardware, customizable RGB keyboard, and effective cooling system.',\n",
       " 'language': 'The language of the review is French.',\n",
       " 'followup_message': \"Voici une réponse de suivi à ce résumé :\\n\\nEn effet, le laptop GamersTech nous a fort impressionnés par ses performances exceptionnelles, son design élégant et son équilibre parfait entre les capacités de jeu et la portabilité. Grâce à son matériel robuste, son clavier RGB personnalisable et son système de refroidissement efficace, cet ordinateur portable est idéal pour les gamers qui recherchent un équipement performant et polyvalent. Les tests que nous avons réalisés ont confirmé que le GamersTech est capable de gérer les jeux les plus exigeants avec facilité, tout en offrant une expérience de jeu fluide et immersive. De plus, son design compact et léger le rend parfait pour les déplacements, ce qui en fait un excellent choix pour les gamers qui ont besoin d'un ordinateur portable puissant et portable. Dans l'ensemble, nous sommes convaincus que le laptop GamersTech est un excellent choix pour les amateurs de jeux vidéo qui recherchent un équipement de haute qualité et performant.\"}"
      ]
     },
     "execution_count": 124,
     "metadata": {},
     "output_type": "execute_result"
    }
   ],
   "source": [
    "overall_chain = SequentialChain(\n",
    "    chains=[chain_one, chain_two, chain_three, chain_four],\n",
    "    input_variables=[\"Review\"],\n",
    "    output_variables=[\"English_Review\", \"summary\",\"language\",\"followup_message\"],\n",
    "    verbose=True\n",
    ")\n",
    "overall_chain(Review)\n"
   ]
  },
  {
   "cell_type": "markdown",
   "id": "33e33909",
   "metadata": {},
   "source": [
    "# LCEL"
   ]
  },
  {
   "cell_type": "code",
   "execution_count": 141,
   "id": "40497df3",
   "metadata": {},
   "outputs": [],
   "source": [
    "model = ChatTogether(model_name=model)\n",
    "output_parser = StrOutputParser()\n",
    "prompt = ChatPromptTemplate.from_template(\n",
    "    \"Create a lively and engaging product description with emojis based on these notes: \\n{product_notes}\"\n",
    ")\n"
   ]
  },
  {
   "cell_type": "code",
   "execution_count": 128,
   "id": "b27315a0",
   "metadata": {},
   "outputs": [],
   "source": [
    "prompt_value = prompt.invoke({\"product_notes\": \"Multi color affordable mobile covers\"})\n"
   ]
  },
  {
   "cell_type": "code",
   "execution_count": 129,
   "id": "f1ce36d2",
   "metadata": {
    "scrolled": true
   },
   "outputs": [
    {
     "data": {
      "text/plain": [
       "ChatPromptValue(messages=[HumanMessage(content='Create a lively and engaging product description with emojis based on these notes: \\nMulti color affordable mobile covers', additional_kwargs={}, response_metadata={})])"
      ]
     },
     "execution_count": 129,
     "metadata": {},
     "output_type": "execute_result"
    }
   ],
   "source": [
    "prompt_value"
   ]
  },
  {
   "cell_type": "code",
   "execution_count": 130,
   "id": "a321e8cf",
   "metadata": {},
   "outputs": [
    {
     "data": {
      "text/plain": [
       "'Human: Create a lively and engaging product description with emojis based on these notes: \\nMulti color affordable mobile covers'"
      ]
     },
     "execution_count": 130,
     "metadata": {},
     "output_type": "execute_result"
    }
   ],
   "source": [
    "prompt_value.to_string()\n"
   ]
  },
  {
   "cell_type": "code",
   "execution_count": 131,
   "id": "cacd24cb",
   "metadata": {},
   "outputs": [
    {
     "data": {
      "text/plain": [
       "[HumanMessage(content='Create a lively and engaging product description with emojis based on these notes: \\nMulti color affordable mobile covers', additional_kwargs={}, response_metadata={})]"
      ]
     },
     "execution_count": 131,
     "metadata": {},
     "output_type": "execute_result"
    }
   ],
   "source": [
    "prompt_value.to_messages()"
   ]
  },
  {
   "cell_type": "code",
   "execution_count": 132,
   "id": "c1ff3054",
   "metadata": {},
   "outputs": [],
   "source": [
    "model_output = model.invoke(prompt_value.to_messages())\n"
   ]
  },
  {
   "cell_type": "code",
   "execution_count": 133,
   "id": "9b75f42d",
   "metadata": {},
   "outputs": [
    {
     "data": {
      "text/plain": [
       "AIMessage(content=\"📱💥 Add a pop of color to your mobile with our vibrant and affordable mobile covers 🎉! 🌈 Choose from a RAINBOW of colors and designs to match your unique style 🤩. Our multi-color mobile covers are not only stylish but also super affordable 💸, so you can stay on-trend without breaking the bank 🤑.\\n\\n👉 Protect your phone in style with our durable and long-lasting covers 🛡️. They're designed to fit snugly around your device, providing maximum protection against scratches and bumps 🤯. Plus, they're easy to install and remove, making it a breeze to switch up your look whenever you want 🔄.\\n\\n👀 So why settle for a boring, plain cover when you can make a statement with our multi-color mobile covers 🤔? 🎁 Treat yourself or gift one to a friend or family member who loves to stay stylish and connected 📱. Order now and get ready to turn heads with your vibrant new mobile cover 😎! 💥\", additional_kwargs={'refusal': None}, response_metadata={'token_usage': {'completion_tokens': 217, 'prompt_tokens': 55, 'total_tokens': 272, 'completion_tokens_details': None, 'prompt_tokens_details': None}, 'model_name': 'meta-llama/Llama-3.3-70B-Instruct-Turbo', 'system_fingerprint': None, 'finish_reason': 'eos', 'logprobs': None}, id='run-f71bb15f-0c80-4a59-9981-6468db772a96-0', usage_metadata={'input_tokens': 55, 'output_tokens': 217, 'total_tokens': 272, 'input_token_details': {}, 'output_token_details': {}})"
      ]
     },
     "execution_count": 133,
     "metadata": {},
     "output_type": "execute_result"
    }
   ],
   "source": [
    "model_output"
   ]
  },
  {
   "cell_type": "code",
   "execution_count": 134,
   "id": "94bbc4b0",
   "metadata": {},
   "outputs": [
    {
     "name": "stdout",
     "output_type": "stream",
     "text": [
      "📱💥 Add a pop of color to your mobile with our vibrant and affordable mobile covers 🎉! 🌈 Choose from a RAINBOW of colors and designs to match your unique style 🤩. Our multi-color mobile covers are not only stylish but also super affordable 💸, so you can stay on-trend without breaking the bank 🤑.\n",
      "\n",
      "👉 Protect your phone in style with our durable and long-lasting covers 🛡️. They're designed to fit snugly around your device, providing maximum protection against scratches and bumps 🤯. Plus, they're easy to install and remove, making it a breeze to switch up your look whenever you want 🔄.\n",
      "\n",
      "👀 So why settle for a boring, plain cover when you can make a statement with our multi-color mobile covers 🤔? 🎁 Treat yourself or gift one to a friend or family member who loves to stay stylish and connected 📱. Order now and get ready to turn heads with your vibrant new mobile cover 😎! 💥\n"
     ]
    }
   ],
   "source": [
    "print(output_parser.invoke(model_output))\n"
   ]
  },
  {
   "cell_type": "code",
   "execution_count": 142,
   "id": "5e9916f5",
   "metadata": {},
   "outputs": [
    {
     "name": "stdout",
     "output_type": "stream",
     "text": [
      "🎉💻 Get ready to add a pop of color to your mobile phone with our vibrant and affordable multi-color mobile covers 📱👀! 🌈\n",
      "\n",
      "Choose from a wide range of exciting colors and designs that will make your phone stand out from the crowd 🌴. Our mobile covers are not just stylish, but also durable and long-lasting 💪, protecting your device from scratches and damage 🤦‍♂️.\n",
      "\n",
      "What's more, our multi-color mobile covers are super affordable 💸, so you can stay on-trend without breaking the bank 🤑. Whether you're a fan of bright and bold colors 🌟 or pastel shades 🌸, we've got you covered 📈.\n",
      "\n",
      "So why settle for a boring, plain mobile cover when you can add some personality to your phone with our fun and colorful designs 🤔? 🎁 Treat yourself to a new mobile cover today and give your phone a fresh new look 📱💫!\n",
      "\n",
      "Key features:\n",
      "🔹 Affordable prices\n",
      "🔹 Durable and long-lasting\n",
      "🔹 Wide range of colors and designs\n",
      "🔹 Protects your phone from scratches and damage\n",
      "\n",
      "Get your multi-color mobile cover now and add some excitement to your mobile phone 📱👍! 🎉\n"
     ]
    }
   ],
   "source": [
    "chain = prompt | model | output_parser\n",
    "product_description = chain.invoke({\"product_notes\": \"Multi color affordable mobile covers\"})\n",
    "print(product_description)\n"
   ]
  },
  {
   "cell_type": "code",
   "execution_count": 151,
   "id": "31fed300",
   "metadata": {},
   "outputs": [
    {
     "name": "stdout",
     "output_type": "stream",
     "text": [
      "🎉📱 Add a Pop of Color to Your Mobile with Our Affordable Multi-Color Covers 📱🎉\n",
      "\n",
      "Elevate your mobile style with our vibrant and fun multi-color phone covers 🌈! Not only do they protect your device from scratches and damage 🛡️, but they also make a bold fashion statement 💃. Our affordable mobile covers come in a variety of colorful designs, ensuring you'll find the perfect match for your unique personality 🤩.\n",
      "\n",
      "With our multi-color covers, you can:\n",
      "\n",
      "✨ Express yourself with a wide range of colors and patterns\n",
      "✨ Protect your phone from everyday wear and tear\n",
      "✨ Stay on-trend with the latest mobile accessories\n",
      "✨ Enjoy affordable prices without compromising on quality\n",
      "\n",
      "So why settle for a boring, plain cover when you can make a statement with our multi-color mobile covers? 🤔 Treat yourself to a fresh new look and shop our collection today! 🛍️💰\n",
      "\n",
      "👉 Key Features:\n",
      "- Durable and long-lasting material\n",
      "- Easy to install and remove\n",
      "- Compatible with a variety of mobile models\n",
      "- Affordable prices without compromising on quality\n",
      "\n",
      "👉 Get ready to unleash your personality and add some color to your mobile with our amazing multi-color covers! 🌟"
     ]
    }
   ],
   "source": [
    "# Streaming Example\n",
    "for chunk in chain.stream({\"product_notes\": \"Multi color affordable mobile covers\"}):\n",
    "    print(chunk, end=\"\", flush=True)\n",
    "\n"
   ]
  },
  {
   "cell_type": "code",
   "execution_count": 149,
   "id": "c5fe0ab0",
   "metadata": {},
   "outputs": [],
   "source": [
    "# Batch Processing Example\n",
    "product_notes_list = [\n",
    "    {\"product_notes\": \"Eco-friendly reusable water bottles\"},\n",
    "    #{\"product_notes\": \"Eco-friendly reusable water bottles\"},\n",
    "    #{\"product_notes\":\"Biodegradable plant-based straws\"},\n",
    "    #{\"product_notes\":\"Solar-powered LED garden lights\"},\n",
    "    {\"product_notes\":\"Recyclable bamboo toothbrushes\"},\n",
    "    {\"product_notes\":\"Organic cotton tote bags\"}]\n",
    "batch_descriptions = chain.batch(product_notes_list)\n"
   ]
  },
  {
   "cell_type": "code",
   "execution_count": 150,
   "id": "6c58f98b",
   "metadata": {
    "scrolled": false
   },
   "outputs": [
    {
     "name": "stdout",
     "output_type": "stream",
     "text": [
      "1 🌎💚 Stay hydrated and save the planet with our amazing eco-friendly reusable water bottles 🌟! 💦 Made from high-quality, BPA-free materials, these bottles are designed to keep your drinks fresh and hot or cold for hours 🕰️. \n",
      "\n",
      "🌈 Not only are they great for the environment, but they're also super stylish and come in a range of colors to match your unique vibe 🎨. Whether you're hitting the gym 🏋️‍♀️, going for a hike 🏞️, or just need a drink on-the-go, our reusable water bottles are the perfect companion 🤝.\n",
      "\n",
      "🚫 Ditch single-use plastic bottles and make the switch to a more sustainable you 🌱. Our bottles are easy to clean, durable, and designed to last, so you can stay hydrated and reduce your waste 📉. \n",
      "\n",
      "👉 So why wait? Join the eco-friendly movement and get your hands on one of our fantastic reusable water bottles today 🎉! 💖 Your planet (and your taste buds) will thank you 🙏.\n",
      "2 🌿🦷 Introducing the Eco-Friendly Game-Changer: Recyclable Bamboo Toothbrushes 🌸💚\n",
      "\n",
      "Say goodbye to plastic waste and hello to a healthier planet with our amazing recyclable bamboo toothbrushes 🌟! Made from sustainably-sourced bamboo, these toothbrushes are not only gentle on your teeth and gums but also kind to the environment 🌎.\n",
      "\n",
      "🌿 The Benefits:\n",
      "- Biodegradable and compostable handles 🌱\n",
      "- Soft, BPA-free bristles for a comfortable clean 🧹\n",
      "- Ergonomic design for a perfect grip 🤚\n",
      "- Perfect for travel or everyday use 🛫️\n",
      "\n",
      "🌸 Join the Movement:\n",
      "Ditch the plastic and make the switch to our recyclable bamboo toothbrushes. Together, we can reduce waste, protect our oceans, and create a more sustainable future for our planet 🌟.\n",
      "\n",
      "🎁 Make the Change:\n",
      "Try our recyclable bamboo toothbrushes today and experience the power of eco-friendly oral care 🦷. Your teeth, gums, and the planet will thank you 🙏! 🌿💖\n",
      "3 🌟 Introducing the ultimate eco-friendly accessory: our Organic Cotton Tote Bags 🛍️! 🌿 Made from 100% organic cotton, these stylish and sturdy bags are not only good for you, but also for the planet 🌎. \n",
      "\n",
      "🌸 Say goodbye to flimsy, synthetic bags and hello to a durable, long-lasting tote that's perfect for grocery shopping 🍎, beach trips 🏖️, or just running errands 🚶‍♀️. The natural fibers of our organic cotton bags ensure they're breathable, soft to the touch, and gentle on your skin 🌸.\n",
      "\n",
      "🎨 Plus, with a range of vibrant colors and fun designs to choose from, you can express your personal style and add a pop of color to your daily routine 🌈. Whether you're a busy bee 🐝 or a free-spirited adventurer 🌟, our organic cotton tote bags are the perfect companion for any occasion.\n",
      "\n",
      "🌿 So why settle for an ordinary bag when you can make a statement with an eco-friendly, organic cotton tote? 🤔 Join the sustainable fashion movement and experience the comfort, practicality, and style of our amazing bags 🛍️. Treat yourself or gift one to a friend – your planet (and your wardrobe) will thank you 🙏! 🌟\n"
     ]
    }
   ],
   "source": [
    "for i,j in enumerate(batch_descriptions,1):\n",
    "    print(i,j)"
   ]
  },
  {
   "cell_type": "code",
   "execution_count": null,
   "id": "1671851b",
   "metadata": {},
   "outputs": [],
   "source": []
  }
 ],
 "metadata": {
  "kernelspec": {
   "display_name": "Python 3 (ipykernel)",
   "language": "python",
   "name": "python3"
  },
  "language_info": {
   "codemirror_mode": {
    "name": "ipython",
    "version": 3
   },
   "file_extension": ".py",
   "mimetype": "text/x-python",
   "name": "python",
   "nbconvert_exporter": "python",
   "pygments_lexer": "ipython3",
   "version": "3.10.9"
  }
 },
 "nbformat": 4,
 "nbformat_minor": 5
}
