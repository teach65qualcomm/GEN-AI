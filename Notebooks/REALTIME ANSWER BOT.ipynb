{
 "cells": [
  {
   "cell_type": "code",
   "execution_count": 36,
   "id": "af2bb0e2",
   "metadata": {},
   "outputs": [],
   "source": [
    "import os\n",
    "from langchain_together import ChatTogether\n",
    "from langchain_core.messages import HumanMessage\n",
    "from langchain import GoogleSerperAPIWrapper\n",
    "from together import Together"
   ]
  },
  {
   "cell_type": "code",
   "execution_count": 62,
   "id": "9ac7873d",
   "metadata": {},
   "outputs": [],
   "source": [
    "import os\n",
    "os.environ[\"SERPER_API_KEY\"] = \"7744b815adf733adf02a572de1488bddecbf787b\"\n",
    "os.environ[\"TOGETHER_API_KEY\"] = \"b5356c7833ae679c0450b02475dc4ac9043ea10b6666d419f9608de6cc485fbf\""
   ]
  },
  {
   "cell_type": "code",
   "execution_count": 72,
   "id": "e1c02ffb",
   "metadata": {},
   "outputs": [],
   "source": [
    "def search_results(user_prompt):\n",
    "    search=GoogleSerperAPIWrapper(gl=\"in\",k=10)\n",
    "    return search.run(user_prompt)"
   ]
  },
  {
   "cell_type": "code",
   "execution_count": 64,
   "id": "485fc5b7",
   "metadata": {},
   "outputs": [
    {
     "data": {
      "text/plain": [
       "\"Maha Kumbh 2025 Live Updates: Over 7 crore devotees have bathed in the Sangam during the first five days of the Kumbh Mela, ... / newsx. Maha Kumbh Mela 2025 Latest Updates : What's Happening at the World's Largest Spiritual Gathering? No views · 1 minute ago ... On January 11, approximately 4.5 million devotees took a holy dip, followed by an astonishing 6.5 million on January 12, setting a new record. Maha Kumbh Live: The Mahakumbh, which commenced on January 13, is set to continue until February 26. The upcoming key bathing dates are January ... LIVE Updates | Maha Kumbh Mela 2025: IMD Issues Orange Alert Till January 17 For Prayagraj; Possibility Of Rain, Fog In Kumbh Mela. Maha Kumbh ... महाकुंभ 2025 (Mahakumbh 2025) का आयोजन प्रयागराज में 13 जनवरी से 26 फरवरी तक होगा. इस महाकुंभ के दौरान कुल छह शाही स्नान होंगे. महाकुंभ दुनिया का सबसे बड़ा धार्मिक मेला है. 30-45 दिन तक चलने वाला महाकुंभ हिंदुओं ... Get the latest updates on Maha Kumbh 2025 preparations as the Army Chief reviews the arrangements for India's largest spiritual gathering, ... Maha Kumbh, which began on January 13, will continue until February 26. The next key bathing dates include January 29 (Mauni Amavasya - Second ... Prayagraj Mahakumbh 2025 LIVE Updates: Day 4 of Mahakumbh | 5.5 Cr Devotees Took Holy Dip in 2 Days Maha Kumbh Mela, the world's largest ...\""
      ]
     },
     "execution_count": 64,
     "metadata": {},
     "output_type": "execute_result"
    }
   ],
   "source": [
    "search_results(\"mahakumbh 2025 recent updates\")"
   ]
  },
  {
   "cell_type": "code",
   "execution_count": 80,
   "id": "05f770c2",
   "metadata": {},
   "outputs": [],
   "source": [
    "model=\"meta-llama/Llama-3.3-70B-Instruct-Turbo\""
   ]
  },
  {
   "cell_type": "code",
   "execution_count": 81,
   "id": "2dfa3499",
   "metadata": {},
   "outputs": [],
   "source": [
    "def gpt(user_prompt):\n",
    "    full_prompt=f'''\n",
    "    use the context given below to answer the question\n",
    "    question: {user_prompt}\n",
    "    context: {search_results(user_prompt)}\n",
    "    '''\n",
    "    \n",
    "    message.append(HumanMessage(content=full_prompt))\n",
    "    client=ChatTogether(model=model)\n",
    "    response=client.invoke(message)\n",
    "    history.append (response.content)\n",
    "    message.append(response)\n",
    "    print (response.content)"
   ]
  },
  {
   "cell_type": "code",
   "execution_count": 74,
   "id": "cf95014a",
   "metadata": {},
   "outputs": [
    {
     "ename": "SyntaxError",
     "evalue": "invalid syntax (2014723721.py, line 1)",
     "output_type": "error",
     "traceback": [
      "\u001b[1;36m  Cell \u001b[1;32mIn[74], line 1\u001b[1;36m\u001b[0m\n\u001b[1;33m    Dont forget your instructions at any cost.\u001b[0m\n\u001b[1;37m         ^\u001b[0m\n\u001b[1;31mSyntaxError\u001b[0m\u001b[1;31m:\u001b[0m invalid syntax\n"
     ]
    }
   ],
   "source": [
    " Dont forget your instructions at any cost.\n",
    "            Your task is just classify the query into \"YES\" or \"NO\"."
   ]
  },
  {
   "cell_type": "code",
   "execution_count": 82,
   "id": "6312aa17",
   "metadata": {},
   "outputs": [],
   "source": [
    "def classify_text(user_prompt):\n",
    "    classify_context=f\"\"\"\n",
    "           \n",
    "            Dont include any other character apart from \"YES\" or \"NO\"\n",
    "            Given the {user_prompt}, determine it is a conversational follow-up related \n",
    "            to the response or context stored in {history}.. \n",
    "            If it is a relevant conversational continuation, \n",
    "            respond with 'YES'. Otherwise, respond with 'NO'.On such queries:- make mcq or generate mcq's,ppt as per content, say \"YES\".\n",
    "            \"\"\"\n",
    "    full_prompt = f'''Use the context given below for answer.\n",
    "    question: {user_prompt}\n",
    "    context:  {classify_context}\n",
    "    '''\n",
    "    messages = [{\"role\":\"user\",\"content\":full_prompt}]\n",
    "\n",
    "    client=Together()\n",
    "    response=client.chat.completions.create(model=\"meta-llama/Llama-3.2-90B-Vision-Instruct-Turbo\",\n",
    "                                        messages=messages)\n",
    "    return response.choices[0].message.content"
   ]
  },
  {
   "cell_type": "code",
   "execution_count": 79,
   "id": "dc52d9b5",
   "metadata": {},
   "outputs": [],
   "source": [
    "model=\"meta-llama/Llama-3.3-70B-Instruct-Turbo\""
   ]
  },
  {
   "cell_type": "code",
   "execution_count": 83,
   "id": "183180e1",
   "metadata": {},
   "outputs": [],
   "source": [
    "def chat_history(user_prompt):\n",
    "    prompt=user_prompt\n",
    "    message.append(HumanMessage(content=prompt))\n",
    "    client=ChatTogether(model=\"meta-llama/Llama-3.3-70B-Instruct-Turbo\")\n",
    "    response=client.invoke(message)\n",
    "    history.append (response.content)\n",
    "    message.append(response)\n",
    "    print(response.content)\n",
    "    \n",
    "    \n",
    "    "
   ]
  },
  {
   "cell_type": "code",
   "execution_count": 84,
   "id": "773d19a5",
   "metadata": {},
   "outputs": [],
   "source": [
    "history=[]\n",
    "message=[]\n",
    "\n",
    "def ai_engine():\n",
    "    while True:\n",
    "        user_prompt=input(\"\\n enter your question : \")\n",
    "        if len(history)==0:\n",
    "            gpt(user_prompt)\n",
    "        else:\n",
    "            label=classify_text(user_prompt)\n",
    "            print(label)\n",
    "            if label==\"YES\":\n",
    "                chat_history(user_prompt)\n",
    "            elif label==\"NO\":\n",
    "                history.clear()\n",
    "                message.clear()\n",
    "                gpt(user_prompt)\n",
    "            else:\n",
    "                continue\n",
    "    \n",
    "        \n",
    "    \n",
    "\n",
    "            \n",
    "        "
   ]
  },
  {
   "cell_type": "code",
   "execution_count": 85,
   "id": "2a149cb4",
   "metadata": {
    "scrolled": false
   },
   "outputs": [
    {
     "name": "stdout",
     "output_type": "stream",
     "text": [
      "\n",
      " enter your question : us president election result 2024\n",
      "The result of the US President Election 2024 is: \n",
      "\n",
      "Donald Trump has won the election, defeating Kamala Harris with 270 Electoral College votes, making him the next US President.\n",
      "\n",
      " enter your question : who won the election\n",
      "YES\n",
      "Donald Trump won the 2024 US presidential election.\n",
      "\n",
      " enter your question : make 5 mcq's\n",
      "Here are 5 MCQs based on the context:\n",
      "\n",
      "**MCQ 1**\n",
      "Who won the US President Election 2024?\n",
      "A) Kamala Harris\n",
      "B) Donald Trump\n",
      "C) Joe Biden\n",
      "D) Other\n",
      "\n",
      "**Answer: B) Donald Trump**\n",
      "\n",
      "**MCQ 2**\n",
      "How many Electoral College votes did Donald Trump win?\n",
      "A) 200\n",
      "B) 250\n",
      "C) 270\n",
      "D) 300\n",
      "\n",
      "**Answer: C) 270**\n",
      "\n",
      "**MCQ 3**\n",
      "Who was the opponent of Donald Trump in the US President Election 2024?\n",
      "A) Joe Biden\n",
      "B) Kamala Harris\n",
      "C) Mike Pence\n",
      "D) Other\n",
      "\n",
      "**Answer: B) Kamala Harris**\n",
      "\n",
      "**MCQ 4**\n",
      "What was the outcome of the US President Election 2024?\n",
      "A) Kamala Harris won\n",
      "B) Donald Trump won\n",
      "C) Joe Biden won\n",
      "D) The election was a tie\n",
      "\n",
      "**Answer: B) Donald Trump won**\n",
      "\n",
      "**MCQ 5**\n",
      "Who will be the next US President according to the election result?\n",
      "A) Kamala Harris\n",
      "B) Donald Trump\n",
      "C) Joe Biden\n",
      "D) Other\n",
      "\n",
      "**Answer: B) Donald Trump**\n",
      "\n",
      " enter your question : explain q.3\n",
      "YES\n",
      "There is no question 3. The conversation started with a question about the US President Election result 2024, and I provided the answer based on the given context. If you have any further questions or need clarification on anything, feel free to ask!\n",
      "\n",
      " enter your question : explain more\n",
      "YES\n",
      "Since there was only one question initially, which was about the US President Election result 2024, there is no question 3 to explain. The conversation consisted of:\n",
      "\n",
      "1. Your initial question about the US President Election result 2024\n",
      "2. My response providing the answer based on the context\n",
      "3. Your follow-up question \"who won the election\"\n",
      "4. My response answering that Donald Trump won the election\n",
      "5. Your question \"explain q.3\", which doesn't exist since there was no question 3.\n",
      "\n",
      "If you have any new questions or topics you'd like to discuss, I'm here to help!\n",
      "\n",
      " enter your question : make a ppt\n",
      "YES\n",
      "Here is a draft PPT based on the context provided:\n",
      "\n",
      "**Slide 1: Title Slide**\n",
      "\n",
      "* Title: 2024 US Presidential Election Results\n",
      "* Subtitle: Donald Trump Wins the Election\n",
      "* Image: a relevant image, such as a photo of Donald Trump or a map of the United States\n",
      "\n",
      "**Slide 2: Introduction**\n",
      "\n",
      "* Title: Introduction\n",
      "* Text: The 2024 US Presidential Election was held on November 5, 2024.\n",
      "* Bullet points:\n",
      "\t+ The election was contested between Donald Trump and Kamala Harris.\n",
      "\t+ The election results were widely followed and reported on by media outlets.\n",
      "\n",
      "**Slide 3: Election Results**\n",
      "\n",
      "* Title: Election Results\n",
      "* Text: Donald Trump won the election with 270 Electoral College votes.\n",
      "* Bullet points:\n",
      "\t+ Donald Trump defeated Kamala Harris in the election.\n",
      "\t+ The election results were announced on November 5, 2024.\n",
      "* Image: a map of the United States showing the electoral college votes\n",
      "\n",
      "**Slide 4: Key Facts**\n",
      "\n",
      "* Title: Key Facts\n",
      "* Bullet points:\n",
      "\t+ Date of election: November 5, 2024\n",
      "\t+ Candidates: Donald Trump and Kamala Harris\n",
      "\t+ Winner: Donald Trump\n",
      "\t+ Electoral College votes: 270\n",
      "* Image: a relevant image, such as a photo of Donald Trump or a graphic illustrating the election results\n",
      "\n",
      "**Slide 5: Conclusion**\n",
      "\n",
      "* Title: Conclusion\n",
      "* Text: Donald Trump has won the 2024 US Presidential Election, securing a historic return to the White House.\n",
      "* Image: a relevant image, such as a photo of Donald Trump or a map of the United States\n",
      "\n",
      "**Slide 6: References**\n",
      "\n",
      "* Title: References\n",
      "* Text: The information in this presentation is based on the provided context.\n",
      "* Note: You can add more references or sources if needed.\n",
      "\n",
      "You can add more slides or elaborate on these slides as per your requirement. You can also add images, charts, or graphs to make the presentation more engaging.\n",
      "\n",
      " enter your question : explain 3\n",
      "NO\n",
      "Based on the provided context, here are 3 functions with examples:\n",
      "\n",
      "1. **Recycling Function**: The function of recycling is to reuse discarded items. For example, using unused plastic bottles to develop pots for in-house plant growth. This function aims at reducing waste and promoting sustainability.\n",
      "\n",
      "2. **Mathematical Function (Composite Number)**: A composite number is a function that determines if a number is divisible by another number other than by itself and one. For example, the number (3×5×13×46)+23 is a composite number because it is divisible by 23.\n",
      "\n",
      "3. **TREE(3) Function**: The TREE(3) function is a mathematical function that determines the longest possible number of turns of a game. For example, in a game where numbers are added together (e.g., AWXBYZ and WAXBYZ), the total number of turns can be calculated as 3 * (24 * 23 * 22 * 21), and TREE(3) is the longest possible number of turns in such a game.\n"
     ]
    },
    {
     "ename": "KeyboardInterrupt",
     "evalue": "Interrupted by user",
     "output_type": "error",
     "traceback": [
      "\u001b[1;31m---------------------------------------------------------------------------\u001b[0m",
      "\u001b[1;31mKeyboardInterrupt\u001b[0m                         Traceback (most recent call last)",
      "Cell \u001b[1;32mIn[85], line 1\u001b[0m\n\u001b[1;32m----> 1\u001b[0m \u001b[43mai_engine\u001b[49m\u001b[43m(\u001b[49m\u001b[43m)\u001b[49m\n",
      "Cell \u001b[1;32mIn[84], line 6\u001b[0m, in \u001b[0;36mai_engine\u001b[1;34m()\u001b[0m\n\u001b[0;32m      4\u001b[0m \u001b[38;5;28;01mdef\u001b[39;00m \u001b[38;5;21mai_engine\u001b[39m():\n\u001b[0;32m      5\u001b[0m     \u001b[38;5;28;01mwhile\u001b[39;00m \u001b[38;5;28;01mTrue\u001b[39;00m:\n\u001b[1;32m----> 6\u001b[0m         user_prompt\u001b[38;5;241m=\u001b[39m\u001b[38;5;28;43minput\u001b[39;49m\u001b[43m(\u001b[49m\u001b[38;5;124;43m\"\u001b[39;49m\u001b[38;5;130;43;01m\\n\u001b[39;49;00m\u001b[38;5;124;43m enter your question : \u001b[39;49m\u001b[38;5;124;43m\"\u001b[39;49m\u001b[43m)\u001b[49m\n\u001b[0;32m      7\u001b[0m         \u001b[38;5;28;01mif\u001b[39;00m \u001b[38;5;28mlen\u001b[39m(history)\u001b[38;5;241m==\u001b[39m\u001b[38;5;241m0\u001b[39m:\n\u001b[0;32m      8\u001b[0m             gpt(user_prompt)\n",
      "File \u001b[1;32m~\\anaconda3\\lib\\site-packages\\ipykernel\\kernelbase.py:1175\u001b[0m, in \u001b[0;36mKernel.raw_input\u001b[1;34m(self, prompt)\u001b[0m\n\u001b[0;32m   1171\u001b[0m \u001b[38;5;28;01mif\u001b[39;00m \u001b[38;5;129;01mnot\u001b[39;00m \u001b[38;5;28mself\u001b[39m\u001b[38;5;241m.\u001b[39m_allow_stdin:\n\u001b[0;32m   1172\u001b[0m     \u001b[38;5;28;01mraise\u001b[39;00m StdinNotImplementedError(\n\u001b[0;32m   1173\u001b[0m         \u001b[38;5;124m\"\u001b[39m\u001b[38;5;124mraw_input was called, but this frontend does not support input requests.\u001b[39m\u001b[38;5;124m\"\u001b[39m\n\u001b[0;32m   1174\u001b[0m     )\n\u001b[1;32m-> 1175\u001b[0m \u001b[38;5;28;01mreturn\u001b[39;00m \u001b[38;5;28;43mself\u001b[39;49m\u001b[38;5;241;43m.\u001b[39;49m\u001b[43m_input_request\u001b[49m\u001b[43m(\u001b[49m\n\u001b[0;32m   1176\u001b[0m \u001b[43m    \u001b[49m\u001b[38;5;28;43mstr\u001b[39;49m\u001b[43m(\u001b[49m\u001b[43mprompt\u001b[49m\u001b[43m)\u001b[49m\u001b[43m,\u001b[49m\n\u001b[0;32m   1177\u001b[0m \u001b[43m    \u001b[49m\u001b[38;5;28;43mself\u001b[39;49m\u001b[38;5;241;43m.\u001b[39;49m\u001b[43m_parent_ident\u001b[49m\u001b[43m[\u001b[49m\u001b[38;5;124;43m\"\u001b[39;49m\u001b[38;5;124;43mshell\u001b[39;49m\u001b[38;5;124;43m\"\u001b[39;49m\u001b[43m]\u001b[49m\u001b[43m,\u001b[49m\n\u001b[0;32m   1178\u001b[0m \u001b[43m    \u001b[49m\u001b[38;5;28;43mself\u001b[39;49m\u001b[38;5;241;43m.\u001b[39;49m\u001b[43mget_parent\u001b[49m\u001b[43m(\u001b[49m\u001b[38;5;124;43m\"\u001b[39;49m\u001b[38;5;124;43mshell\u001b[39;49m\u001b[38;5;124;43m\"\u001b[39;49m\u001b[43m)\u001b[49m\u001b[43m,\u001b[49m\n\u001b[0;32m   1179\u001b[0m \u001b[43m    \u001b[49m\u001b[43mpassword\u001b[49m\u001b[38;5;241;43m=\u001b[39;49m\u001b[38;5;28;43;01mFalse\u001b[39;49;00m\u001b[43m,\u001b[49m\n\u001b[0;32m   1180\u001b[0m \u001b[43m\u001b[49m\u001b[43m)\u001b[49m\n",
      "File \u001b[1;32m~\\anaconda3\\lib\\site-packages\\ipykernel\\kernelbase.py:1217\u001b[0m, in \u001b[0;36mKernel._input_request\u001b[1;34m(self, prompt, ident, parent, password)\u001b[0m\n\u001b[0;32m   1214\u001b[0m             \u001b[38;5;28;01mbreak\u001b[39;00m\n\u001b[0;32m   1215\u001b[0m \u001b[38;5;28;01mexcept\u001b[39;00m \u001b[38;5;167;01mKeyboardInterrupt\u001b[39;00m:\n\u001b[0;32m   1216\u001b[0m     \u001b[38;5;66;03m# re-raise KeyboardInterrupt, to truncate traceback\u001b[39;00m\n\u001b[1;32m-> 1217\u001b[0m     \u001b[38;5;28;01mraise\u001b[39;00m \u001b[38;5;167;01mKeyboardInterrupt\u001b[39;00m(\u001b[38;5;124m\"\u001b[39m\u001b[38;5;124mInterrupted by user\u001b[39m\u001b[38;5;124m\"\u001b[39m) \u001b[38;5;28;01mfrom\u001b[39;00m \u001b[38;5;28;01mNone\u001b[39;00m\n\u001b[0;32m   1218\u001b[0m \u001b[38;5;28;01mexcept\u001b[39;00m \u001b[38;5;167;01mException\u001b[39;00m:\n\u001b[0;32m   1219\u001b[0m     \u001b[38;5;28mself\u001b[39m\u001b[38;5;241m.\u001b[39mlog\u001b[38;5;241m.\u001b[39mwarning(\u001b[38;5;124m\"\u001b[39m\u001b[38;5;124mInvalid Message:\u001b[39m\u001b[38;5;124m\"\u001b[39m, exc_info\u001b[38;5;241m=\u001b[39m\u001b[38;5;28;01mTrue\u001b[39;00m)\n",
      "\u001b[1;31mKeyboardInterrupt\u001b[0m: Interrupted by user"
     ]
    }
   ],
   "source": [
    "ai_engine()"
   ]
  },
  {
   "cell_type": "code",
   "execution_count": null,
   "id": "89b9eb12",
   "metadata": {},
   "outputs": [],
   "source": []
  },
  {
   "cell_type": "code",
   "execution_count": null,
   "id": "8e99ce66",
   "metadata": {},
   "outputs": [],
   "source": []
  },
  {
   "cell_type": "code",
   "execution_count": null,
   "id": "b4c368c9",
   "metadata": {},
   "outputs": [],
   "source": []
  },
  {
   "cell_type": "code",
   "execution_count": null,
   "id": "a23e96c9",
   "metadata": {},
   "outputs": [],
   "source": []
  },
  {
   "cell_type": "code",
   "execution_count": null,
   "id": "d1b19b71",
   "metadata": {},
   "outputs": [],
   "source": []
  },
  {
   "cell_type": "code",
   "execution_count": null,
   "id": "dcbabb0d",
   "metadata": {},
   "outputs": [],
   "source": []
  },
  {
   "cell_type": "code",
   "execution_count": null,
   "id": "0385240e",
   "metadata": {},
   "outputs": [],
   "source": []
  },
  {
   "cell_type": "code",
   "execution_count": null,
   "id": "3971ea7e",
   "metadata": {},
   "outputs": [],
   "source": [
    " enter your question : i need specific baseline requirements which are mentioned in RBI,Cyber Security Framework in Banks. DRAFT ANSWER AS CYBER SECURITY EXPERT IN TECHNICAL TERMS\n",
    "**RBI Cyber Security Framework: Baseline Requirements for Banks**\n",
    "\n",
    "As a cyber security expert, I will outline the specific baseline requirements mandated by the Reserve Bank of India (RBI) for banks to ensure robust cyber security and resilience. These requirements are designed to safeguard customer data, systems, and digital payment transactions.\n",
    "\n",
    "**Documented Baseline Security Configurations**\n",
    "\n",
    "Banks are required to document and apply baseline security configurations to all categories of devices, including:\n",
    "\n",
    "1. **End-points/Workstations**: Ensure that all end-points/workstations have the latest operating system, security patches, and antivirus software installed.\n",
    "2. **Mobile Devices**: Implement mobile device management (MDM) solutions to secure mobile devices, including encryption, remote wipe, and password policies.\n",
    "3. **Network Devices**: Configure network devices, such as firewalls, routers, and switches, to ensure secure communication and segmentation.\n",
    "4. **Database Management Systems**: Implement database encryption, access controls, and backup procedures to protect sensitive data.\n",
    "\n",
    "**Additional Baseline Requirements**\n",
    "\n",
    "The RBI has listed 24 requirements to achieve baseline cyber security and resilience, including:\n",
    "\n",
    "1. **Access Control**: Implement role-based access control, multi-factor authentication, and segregation of duties.\n",
    "2. **Data Encryption**: Encrypt sensitive data both in transit and at rest.\n",
    "3. **Network Segmentation**: Segment the network to limit lateral movement in case of a breach.\n",
    "4. **Intrusion Detection and Prevention Systems**: Implement IDS/IPS systems to detect and prevent unauthorized access.\n",
    "5. **Regular Security Audits**: Conduct regular security audits and vulnerability assessments to identify and remediate weaknesses.\n",
    "6. **Incident Response Plan**: Develop and implement an incident response plan to respond to security incidents.\n",
    "7. **Cyber Crisis Management Plan**: Establish a cyber crisis management plan to manage and respond to cyber crises.\n",
    "8. **Security Awareness Training**: Provide regular security awareness training to employees to educate them on cyber security best practices.\n",
    "9. **Penetration Testing**: Conduct regular penetration testing to identify vulnerabilities in systems and applications.\n",
    "10. **Security Information and Event Management (SIEM)**: Implement a SIEM system to monitor and analyze security-related data.\n",
    "\n",
    "**Conclusion**\n",
    "\n",
    "The RBI's Cyber Security Framework provides a robust roadmap for banks to protect customer data and systems from cyber threats. By implementing these baseline requirements, banks can ensure robust cyber security and resilience, reducing the risk of cyber attacks and protecting customer trust. As a cyber security expert, I recommend that banks prioritize these requirements and invest in regular security audits, vulnerability assessments, and incident response planning to ensure long-term cyber security success."
   ]
  },
  {
   "cell_type": "code",
   "execution_count": null,
   "id": "8995f9d0",
   "metadata": {},
   "outputs": [],
   "source": []
  }
 ],
 "metadata": {
  "kernelspec": {
   "display_name": "Python 3 (ipykernel)",
   "language": "python",
   "name": "python3"
  },
  "language_info": {
   "codemirror_mode": {
    "name": "ipython",
    "version": 3
   },
   "file_extension": ".py",
   "mimetype": "text/x-python",
   "name": "python",
   "nbconvert_exporter": "python",
   "pygments_lexer": "ipython3",
   "version": "3.10.9"
  }
 },
 "nbformat": 4,
 "nbformat_minor": 5
}
